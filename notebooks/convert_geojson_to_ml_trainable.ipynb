{
 "cells": [
  {
   "cell_type": "code",
   "execution_count": 1,
   "metadata": {
    "ExecuteTime": {
     "end_time": "2018-10-03T05:35:22.590898Z",
     "start_time": "2018-10-03T05:35:22.585256Z"
    }
   },
   "outputs": [],
   "source": [
    "from __future__ import print_function\n",
    "\n",
    "from osgeo import gdal\n",
    "import rasterio\n",
    "import pandas as pd\n",
    "import os \n",
    "import boto3\n"
   ]
  },
  {
   "cell_type": "markdown",
   "metadata": {},
   "source": [
    "### Prepare data\n",
    "- download from s3. light preprocess"
   ]
  },
  {
   "cell_type": "code",
   "execution_count": 2,
   "metadata": {
    "ExecuteTime": {
     "end_time": "2018-10-03T05:35:23.897428Z",
     "start_time": "2018-10-03T05:35:23.891555Z"
    }
   },
   "outputs": [
    {
     "name": "stdout",
     "output_type": "stream",
     "text": [
      "/home/paperspace/data\n"
     ]
    }
   ],
   "source": [
    "\n",
    "root_folder = os.getcwd()\n",
    "root_folder = \"/home/paperspace/data\"\n",
    "print(root_folder)"
   ]
  },
  {
   "cell_type": "code",
   "execution_count": 3,
   "metadata": {},
   "outputs": [
    {
     "name": "stdout",
     "output_type": "stream",
     "text": [
      "folder already exists\n",
      "folder already exists\n"
     ]
    }
   ],
   "source": [
    "try:\n",
    "    os.makedirs(\"{}/images/niihau\".format(root_folder), 755)  \n",
    "except OSError:\n",
    "    print(\"folder already exists\")\n",
    "\n",
    "try:\n",
    "    os.makedirs(\"{}/niihau\".format(root_folder), 755)  \n",
    "except OSError:\n",
    "    print(\"folder already exists\")\n"
   ]
  },
  {
   "cell_type": "code",
   "execution_count": 4,
   "metadata": {
    "ExecuteTime": {
     "end_time": "2018-10-03T05:35:47.986505Z",
     "start_time": "2018-10-03T05:35:24.522476Z"
    }
   },
   "outputs": [],
   "source": [
    "not_default_keys = True\n",
    "\n",
    "import boto3 \n",
    "boto3.setup_default_session(profile_name='hawaii')\n",
    "s3_client = boto3.client('s3')\n",
    "s3_resource = boto3.resource('s3')\n",
    "version='v2'\n",
    "\n",
    "bucket_name = 'hawaii-marine-debris'\n",
    "file_path_template = \"{}/jpg/{}\"\n",
    "downloaded_tile = set()\n",
    "islands= ['niihau']#'lanai','bigisland',''\n",
    "local_tmp_folder = \"/tmp/{}\"\n",
    "\n",
    "annotatino_s3key_path = \"{island}/annotations.csv\"\n",
    "geojson_keys = [\n",
    "    \"niihau/final_marine_debris_database_NI_UTM4N_boxes.geojson\",\n",
    "    \"niihau/niihau_tileindex.geojson\",    \n",
    "]\n",
    "\n",
    "\n",
    "s3_resource.Bucket(bucket_name).download_file(\"niihau/final_marine_debris_database_NI_UTM4N_boxes.geojson\", \"{}/final_marine_debris_database_NI_UTM4N_boxes.geojson\".format(root_folder))\n",
    "s3_resource.Bucket(bucket_name).download_file(\"niihau/niihau_tileindex.geojson\", \"{}/niihau_tileindex.geojson\".format(root_folder))\n",
    "s3_resource.Bucket(bucket_name).download_file(\"niihau/deduped_annotations.csv\", \"{}/niihau/annotations.csv\".format(root_folder))\n",
    "\n"
   ]
  },
  {
   "cell_type": "code",
   "execution_count": 6,
   "metadata": {},
   "outputs": [],
   "source": [
    "\n",
    "s3_resource.Bucket(bucket_name).download_file(\"niihau/negative_tiles.csv\", \"{}/negative_tiles.csv\".format(root_folder))\n"
   ]
  },
  {
   "cell_type": "code",
   "execution_count": 9,
   "metadata": {},
   "outputs": [
    {
     "data": {
      "text/html": [
       "<div>\n",
       "<style scoped>\n",
       "    .dataframe tbody tr th:only-of-type {\n",
       "        vertical-align: middle;\n",
       "    }\n",
       "\n",
       "    .dataframe tbody tr th {\n",
       "        vertical-align: top;\n",
       "    }\n",
       "\n",
       "    .dataframe thead th {\n",
       "        text-align: right;\n",
       "    }\n",
       "</style>\n",
       "<table border=\"1\" class=\"dataframe\">\n",
       "  <thead>\n",
       "    <tr style=\"text-align: right;\">\n",
       "      <th></th>\n",
       "      <th>s3_key</th>\n",
       "      <th>x0</th>\n",
       "      <th>y0</th>\n",
       "      <th>x1</th>\n",
       "      <th>y1</th>\n",
       "      <th>label</th>\n",
       "    </tr>\n",
       "  </thead>\n",
       "  <tbody>\n",
       "    <tr>\n",
       "      <th>0</th>\n",
       "      <td>niihau/jpg/2_562_09_14.jpg</td>\n",
       "      <td>NaN</td>\n",
       "      <td>NaN</td>\n",
       "      <td>NaN</td>\n",
       "      <td>NaN</td>\n",
       "      <td>NaN</td>\n",
       "    </tr>\n",
       "    <tr>\n",
       "      <th>1</th>\n",
       "      <td>niihau/jpg/1_1463_21_30.jpg</td>\n",
       "      <td>NaN</td>\n",
       "      <td>NaN</td>\n",
       "      <td>NaN</td>\n",
       "      <td>NaN</td>\n",
       "      <td>NaN</td>\n",
       "    </tr>\n",
       "    <tr>\n",
       "      <th>2</th>\n",
       "      <td>niihau/jpg/1_361_29_20.jpg</td>\n",
       "      <td>NaN</td>\n",
       "      <td>NaN</td>\n",
       "      <td>NaN</td>\n",
       "      <td>NaN</td>\n",
       "      <td>NaN</td>\n",
       "    </tr>\n",
       "    <tr>\n",
       "      <th>3</th>\n",
       "      <td>niihau/jpg/2_153_27_05.jpg</td>\n",
       "      <td>NaN</td>\n",
       "      <td>NaN</td>\n",
       "      <td>NaN</td>\n",
       "      <td>NaN</td>\n",
       "      <td>NaN</td>\n",
       "    </tr>\n",
       "    <tr>\n",
       "      <th>4</th>\n",
       "      <td>niihau/jpg/1_521_30_19.jpg</td>\n",
       "      <td>NaN</td>\n",
       "      <td>NaN</td>\n",
       "      <td>NaN</td>\n",
       "      <td>NaN</td>\n",
       "      <td>NaN</td>\n",
       "    </tr>\n",
       "  </tbody>\n",
       "</table>\n",
       "</div>"
      ],
      "text/plain": [
       "                        s3_key  x0  y0  x1  y1  label\n",
       "0   niihau/jpg/2_562_09_14.jpg NaN NaN NaN NaN    NaN\n",
       "1  niihau/jpg/1_1463_21_30.jpg NaN NaN NaN NaN    NaN\n",
       "2   niihau/jpg/1_361_29_20.jpg NaN NaN NaN NaN    NaN\n",
       "3   niihau/jpg/2_153_27_05.jpg NaN NaN NaN NaN    NaN\n",
       "4   niihau/jpg/1_521_30_19.jpg NaN NaN NaN NaN    NaN"
      ]
     },
     "execution_count": 9,
     "metadata": {},
     "output_type": "execute_result"
    }
   ],
   "source": [
    "negative_tiles_df = pd.read_csv(\"{}/negative_tiles.csv\".format(root_folder))\n",
    "negative_tiles_df[:5]"
   ]
  },
  {
   "cell_type": "code",
   "execution_count": 6,
   "metadata": {
    "ExecuteTime": {
     "end_time": "2018-10-03T05:35:47.989002Z",
     "start_time": "2018-10-03T12:35:37.478Z"
    }
   },
   "outputs": [],
   "source": [
    "s3_resource.Bucket(bucket_name).download_file(\"niihau/niihau_tileindex.csv\", \"{}/niihau_tileindex.csv\".format(root_folder))\n"
   ]
  },
  {
   "cell_type": "code",
   "execution_count": 7,
   "metadata": {
    "ExecuteTime": {
     "end_time": "2018-10-02T16:13:10.876220Z",
     "start_time": "2018-10-02T16:13:09.994909Z"
    }
   },
   "outputs": [
    {
     "data": {
      "text/plain": [
       "116158"
      ]
     },
     "execution_count": 7,
     "metadata": {},
     "output_type": "execute_result"
    }
   ],
   "source": [
    "tile_index_df = pd.read_csv(\"{}/niihau_tileindex.csv\".format(root_folder))\n",
    "len(tile_index_df)"
   ]
  },
  {
   "cell_type": "code",
   "execution_count": 8,
   "metadata": {
    "ExecuteTime": {
     "end_time": "2018-10-03T05:35:58.680537Z",
     "start_time": "2018-10-03T05:35:56.854239Z"
    }
   },
   "outputs": [
    {
     "data": {
      "text/html": [
       "<div>\n",
       "<style scoped>\n",
       "    .dataframe tbody tr th:only-of-type {\n",
       "        vertical-align: middle;\n",
       "    }\n",
       "\n",
       "    .dataframe tbody tr th {\n",
       "        vertical-align: top;\n",
       "    }\n",
       "\n",
       "    .dataframe thead th {\n",
       "        text-align: right;\n",
       "    }\n",
       "</style>\n",
       "<table border=\"1\" class=\"dataframe\">\n",
       "  <thead>\n",
       "    <tr style=\"text-align: right;\">\n",
       "      <th></th>\n",
       "      <th>s3_key</th>\n",
       "      <th>x0</th>\n",
       "      <th>y0</th>\n",
       "      <th>x1</th>\n",
       "      <th>y1</th>\n",
       "      <th>label</th>\n",
       "      <th>file_path</th>\n",
       "    </tr>\n",
       "  </thead>\n",
       "  <tbody>\n",
       "    <tr>\n",
       "      <th>0</th>\n",
       "      <td>niihau/jpg/1_1920_04_07.jpg</td>\n",
       "      <td>474</td>\n",
       "      <td>667</td>\n",
       "      <td>524</td>\n",
       "      <td>617</td>\n",
       "      <td>P</td>\n",
       "      <td>/home/paperspace/data//niihau/images/1_1920_04...</td>\n",
       "    </tr>\n",
       "    <tr>\n",
       "      <th>1</th>\n",
       "      <td>niihau/jpg/1_1920_06_12.jpg</td>\n",
       "      <td>940</td>\n",
       "      <td>393</td>\n",
       "      <td>990</td>\n",
       "      <td>343</td>\n",
       "      <td>B</td>\n",
       "      <td>/home/paperspace/data//niihau/images/1_1920_06...</td>\n",
       "    </tr>\n",
       "    <tr>\n",
       "      <th>2</th>\n",
       "      <td>niihau/jpg/1_1920_07_13.jpg</td>\n",
       "      <td>242</td>\n",
       "      <td>529</td>\n",
       "      <td>292</td>\n",
       "      <td>479</td>\n",
       "      <td>P</td>\n",
       "      <td>/home/paperspace/data//niihau/images/1_1920_07...</td>\n",
       "    </tr>\n",
       "    <tr>\n",
       "      <th>3</th>\n",
       "      <td>niihau/jpg/1_1920_07_12.jpg</td>\n",
       "      <td>638</td>\n",
       "      <td>801</td>\n",
       "      <td>738</td>\n",
       "      <td>701</td>\n",
       "      <td>N</td>\n",
       "      <td>/home/paperspace/data//niihau/images/1_1920_07...</td>\n",
       "    </tr>\n",
       "    <tr>\n",
       "      <th>4</th>\n",
       "      <td>niihau/jpg/1_1920_07_13.jpg</td>\n",
       "      <td>187</td>\n",
       "      <td>933</td>\n",
       "      <td>237</td>\n",
       "      <td>883</td>\n",
       "      <td>B</td>\n",
       "      <td>/home/paperspace/data//niihau/images/1_1920_07...</td>\n",
       "    </tr>\n",
       "  </tbody>\n",
       "</table>\n",
       "</div>"
      ],
      "text/plain": [
       "                        s3_key   x0   y0   x1   y1 label  \\\n",
       "0  niihau/jpg/1_1920_04_07.jpg  474  667  524  617     P   \n",
       "1  niihau/jpg/1_1920_06_12.jpg  940  393  990  343     B   \n",
       "2  niihau/jpg/1_1920_07_13.jpg  242  529  292  479     P   \n",
       "3  niihau/jpg/1_1920_07_12.jpg  638  801  738  701     N   \n",
       "4  niihau/jpg/1_1920_07_13.jpg  187  933  237  883     B   \n",
       "\n",
       "                                           file_path  \n",
       "0  /home/paperspace/data//niihau/images/1_1920_04...  \n",
       "1  /home/paperspace/data//niihau/images/1_1920_06...  \n",
       "2  /home/paperspace/data//niihau/images/1_1920_07...  \n",
       "3  /home/paperspace/data//niihau/images/1_1920_07...  \n",
       "4  /home/paperspace/data//niihau/images/1_1920_07...  "
      ]
     },
     "execution_count": 8,
     "metadata": {},
     "output_type": "execute_result"
    }
   ],
   "source": [
    "s3_resource.Bucket(bucket_name).download_file(\"niihau/deduped_annotations.csv\", \"{}/niihau/annotations.csv\".format(root_folder))\n",
    "\n",
    "existing_annotation_df = pd.read_csv(\"{}/niihau/annotations.csv\".format(root_folder))\n",
    "existing_annotation_df['file_path'] = existing_annotation_df['s3_key'].replace({'niihau/jpg': '{}/niihau/images'.format(root_folder)}, inplace=False, regex=True)\n",
    "existing_annotation_df[:5]"
   ]
  },
  {
   "cell_type": "code",
   "execution_count": 21,
   "metadata": {
    "ExecuteTime": {
     "end_time": "2018-10-03T05:36:01.943319Z",
     "start_time": "2018-10-03T05:36:01.893693Z"
    }
   },
   "outputs": [],
   "source": [
    "def download_from_s3(s3_key):\n",
    "    basename = os.path.basename(s3_key)\n",
    "    local_file_path = local_tmp_folder.format(basename)\n",
    "    s3_resource.Bucket(bucket_name).download_file(s3_key, local_file_path)\n",
    "    return local_file_path\n",
    "\n",
    "def convert_tif_to_jpeg(tiff_image_path):\n",
    "    src = rasterio.open(tiff_image_path)\n",
    "    jpg_path = tiff_image_path.replace(\".tif\", \".jpg\")\n",
    "    data = src.read()\n",
    "    profile = src.profile\n",
    "    result = data.astype(rasterio.uint8, casting='unsafe', copy=False)\n",
    "    profile.update(driver='jpeg')\n",
    "    with rasterio.open(jpg_path, 'w', **profile) as dst:\n",
    "        dst.write(result)\n",
    "    return jpg_path\n",
    "                \n",
    "def upload_to_s3(local_file_path, s3_path):\n",
    "    s3_client.upload_file(local_file_path, bucket_name, s3_path)\n",
    "\n",
    "def find_min_xy(coordinates):\n",
    "    x0 = min([i[0] for i in coordinates])\n",
    "    x1 = max([i[0] for i in coordinates])\n",
    "    y0 = min([i[1] for i in coordinates])\n",
    "    y1 = max([i[1] for i in coordinates])\n",
    "    return x0,y0,x1,y1\n",
    "\n",
    "\n",
    "def get_pixel_coordinates(image_path, coordinates):\n",
    "    driver = gdal.GetDriverByName('GTiff')\n",
    "    dataset = gdal.Open(image_path)\n",
    "    band = dataset.GetRasterBand(1)\n",
    "\n",
    "    cols = dataset.RasterXSize\n",
    "    rows = dataset.RasterYSize\n",
    "\n",
    "    transform = dataset.GetGeoTransform()\n",
    "\n",
    "    xOrigin = transform[0]\n",
    "    yOrigin = transform[3]\n",
    "    pixelWidth = transform[1]\n",
    "    pixelHeight = -transform[5]\n",
    "\n",
    "    data = band.ReadAsArray(0, 0, cols, rows)\n",
    "\n",
    "    x0, y0, x1, y1 = coordinates\n",
    "    x0p = int((x0 - xOrigin) / pixelWidth)\n",
    "    y0p = int((yOrigin - y0 ) / pixelHeight)\n",
    "    x1p = int((x1 - xOrigin) / pixelWidth)\n",
    "    y1p = int((yOrigin - y1 ) / pixelHeight)\n",
    "    return x0p, y0p, x1p, y1p"
   ]
  },
  {
   "cell_type": "markdown",
   "metadata": {},
   "source": [
    "### Iterate through geojson to find out annotations and overlap between new generated tiles\n"
   ]
  },
  {
   "cell_type": "code",
   "execution_count": 10,
   "metadata": {
    "ExecuteTime": {
     "end_time": "2018-10-03T05:36:03.089718Z",
     "start_time": "2018-10-03T05:36:03.086052Z"
    }
   },
   "outputs": [],
   "source": [
    "#download all necessary geojson files:\n"
   ]
  },
  {
   "cell_type": "code",
   "execution_count": 11,
   "metadata": {
    "ExecuteTime": {
     "end_time": "2018-10-03T05:36:07.325866Z",
     "start_time": "2018-10-03T05:36:04.088820Z"
    }
   },
   "outputs": [],
   "source": [
    "import json\n",
    "from pprint import pprint\n",
    "#list of all debris annotated from UoH\n",
    "with open(\"{}/final_marine_debris_database_NI_UTM4N_boxes.geojson\".format(root_folder)) as f:\n",
    "    geo_json = json.load(f)\n",
    "len(geo_json['features'])\n",
    "debris_boxes = geo_json['features']\n",
    "\n",
    "\n",
    "with open(\"{}/niihau_tileindex.geojson\".format(root_folder)) as f:\n",
    "    tiles_geo_json = json.load(f)\n",
    "len(tiles_geo_json['features'])\n",
    "tiles_features = tiles_geo_json['features']\n"
   ]
  },
  {
   "cell_type": "code",
   "execution_count": 12,
   "metadata": {
    "ExecuteTime": {
     "end_time": "2018-10-03T05:36:14.094073Z",
     "start_time": "2018-10-03T05:36:14.076313Z"
    }
   },
   "outputs": [
    {
     "name": "stdout",
     "output_type": "stream",
     "text": [
      "{'NI'}\n"
     ]
    }
   ],
   "source": [
    "islands = set()\n",
    "for d in debris_boxes:\n",
    "    islands.add(d['properties']['island'])\n",
    "print(islands)"
   ]
  },
  {
   "cell_type": "code",
   "execution_count": 20,
   "metadata": {
    "ExecuteTime": {
     "end_time": "2018-10-03T05:36:15.422520Z",
     "start_time": "2018-10-03T05:36:15.403370Z"
    }
   },
   "outputs": [
    {
     "name": "stdout",
     "output_type": "stream",
     "text": [
      "# of debris :7871\n",
      "{'B', 'C', 'N', 'M', 'P', 'V', 'F', 'T', 'L', 'W', 'O'}\n"
     ]
    }
   ],
   "source": [
    "#filter out specific data that we are looking for\n",
    "\n",
    "set_of_objs = set()\n",
    "target_islands = [\"NI\"]\n",
    "def filter_debris_per_islands(target_islands=[]):\n",
    "    objects = ['T','V','N','B','M','P','C','L','F','W','O']\n",
    "    geo_json_in_search = []\n",
    "    \n",
    "    for d in debris_boxes:\n",
    "        if d['properties']['type'].upper() not in objects:\n",
    "            print(\"unknown object {}\".format(d['properties']['type']))\n",
    "        if d['properties']['island'] in target_islands:\n",
    "            d['properties']['type'] = d['properties']['type'].upper()\n",
    "            geo_json_in_search.append(d)\n",
    "        set_of_objs.add(d['properties']['type'])\n",
    "\n",
    "    print(\"# of debris :{}\".format(len(geo_json_in_search)))\n",
    "    return geo_json_in_search\n",
    "geo_json_in_search = filter_debris_per_islands(target_islands)\n",
    "print(set_of_objs)\n",
    "# Debris categories:\n",
    "# B = Buoys and floats\n",
    "# C = Cloth\t\n",
    "# F = Foam \n",
    "# L = Line (single pieces of rope, not net)\n",
    "# M = Metal\n",
    "# N = Net\n",
    "# P = Plastic\n",
    "# T = Tire\n",
    "# W = Processed wood\n",
    "# V = Vessel\n",
    "# O = Other "
   ]
  },
  {
   "cell_type": "code",
   "execution_count": 21,
   "metadata": {
    "ExecuteTime": {
     "end_time": "2018-10-03T05:40:19.022728Z",
     "start_time": "2018-10-03T05:40:19.015688Z"
    }
   },
   "outputs": [
    {
     "data": {
      "text/plain": [
       "7871"
      ]
     },
     "execution_count": 21,
     "metadata": {},
     "output_type": "execute_result"
    }
   ],
   "source": [
    "len(geo_json_in_search)"
   ]
  },
  {
   "cell_type": "code",
   "execution_count": 22,
   "metadata": {
    "ExecuteTime": {
     "end_time": "2018-10-03T05:37:51.835426Z",
     "start_time": "2018-10-03T05:37:51.827077Z"
    }
   },
   "outputs": [
    {
     "data": {
      "text/plain": [
       "[{'type': 'Feature',\n",
       "  'properties': {'unique_pt_id': 'NI-001-0001',\n",
       "   'island': 'NI',\n",
       "   'segment': 1,\n",
       "   'pt_id': 1,\n",
       "   'lat': 21.996464,\n",
       "   'long': -160.061616,\n",
       "   'type': 'P',\n",
       "   'size': 1,\n",
       "   'min_size_meters': 0.01,\n",
       "   'max_size_meters': 0.5,\n",
       "   'observer': 'AO',\n",
       "   'comment': None,\n",
       "   'max_size_s': '0.5'},\n",
       "  'geometry': {'type': 'Polygon',\n",
       "   'coordinates': [[[390411.34116614977, 2432815.3680491154],\n",
       "     [390412.34116614977, 2432815.3680491154],\n",
       "     [390412.34116614977, 2432816.3680491154],\n",
       "     [390411.34116614977, 2432816.3680491154],\n",
       "     [390411.34116614977, 2432815.3680491154]]]}}]"
      ]
     },
     "execution_count": 22,
     "metadata": {},
     "output_type": "execute_result"
    }
   ],
   "source": [
    "geo_json_in_search[:1]"
   ]
  },
  {
   "cell_type": "code",
   "execution_count": null,
   "metadata": {
    "ExecuteTime": {
     "end_time": "2018-10-03T05:42:36.535301Z",
     "start_time": "2018-10-03T05:41:39.602640Z"
    }
   },
   "outputs": [
    {
     "name": "stdout",
     "output_type": "stream",
     "text": [
      "searching 7871\n",
      "Search for tile image based on annotation geojson\n",
      "with debris--103 unique debris -- 79 without debris--5036 pct done -- 4.39%\r"
     ]
    }
   ],
   "source": [
    "\n",
    "#find corresponding tile\n",
    "tile_with_debris = []\n",
    "tile_without_debris = set()\n",
    "unique_debris_image_set = {}\n",
    "max_number_of_negative_images = 10000\n",
    "stop_at_reached_at_max_negative = False\n",
    "print(\"searching {}\".format(len(geo_json_in_search)))\n",
    "\n",
    "\n",
    "bucket_name = 'hawaii-marine-debris'\n",
    "\n",
    "s3key_path_template = \"niihau/jpg/{}\"\n",
    "\n",
    "downloaded_tile = set()\n",
    "csv_rows = []\n",
    "unique_set = True\n",
    "\n",
    "print(\"Search for tile image based on annotation geojson\")\n",
    "for idx, tile in enumerate(tiles_features):    \n",
    "    x0,y0,x1,y1 = find_min_xy(tile['geometry']['coordinates'][0]) \n",
    "    has_debris = False\n",
    "    pct = (float(idx)/total_tile)*100\n",
    "    for debris in geo_json_in_search:\n",
    "        target = find_min_xy(debris['geometry']['coordinates'][0])\n",
    "        \n",
    "        if x0 < target[0] and y0 < target[1] and  x1 > target[2] and y1 > target[3]:\n",
    "            print(\"with debris--{0:} unique debris -- {1:} without debris--{2:} pct done -- {3:.2f}%\"\\\n",
    "                  .format(len(tile_with_debris),len(unique_debris_image_set), len(tile_without_debris),pct),end='\\r')\n",
    "            json = {'label': debris['properties']['type'],\n",
    "             'annotation': target,\n",
    "             'image_s3':tile['properties']['s3_path'],\n",
    "             'unique_pt_id': debris['properties']['unique_pt_id']\n",
    "            }\n",
    "            tile_with_debris.append(json)\n",
    "            unique_debris_image_set[debris['properties']['unique_pt_id']]=tile['properties']['s3_path']\n",
    "            debris['s3_key']=tile['properties']['s3_path']\n",
    "            has_debris = True\n",
    "\n",
    "    if not has_debris:\n",
    "        tile_without_debris.add(tile['properties']['s3_path'])\n",
    "        if stop_at_reached_at_max_negative and len(tile_without_debris)>max_number_of_negative_images:\n",
    "            break\n",
    "    if len(unique_debris_image_set)>=len(geo_json_in_search) and len(tile_without_debris)>max_number_of_negative_images:\n",
    "        break\n",
    "\n",
    "print(\"with debris--{0:} unique debris -- {1:} without debris--{2:} pct done -- {3:.2f}%\"\\\n",
    "                  .format(len(tile_with_debris),len(unique_debris_image_set), len(tile_without_debris),pct),end='\\r')#just find the first one for now. and let's think about how to deal with second images later.\n",
    "\n"
   ]
  },
  {
   "cell_type": "code",
   "execution_count": 163,
   "metadata": {},
   "outputs": [
    {
     "name": "stdout",
     "output_type": "stream",
     "text": [
      "with debris--10674 unique debris -- 7785 without debris--112934 pct done -- 100.00%\r"
     ]
    }
   ],
   "source": [
    "print(\"with debris--{0:} unique debris -- {1:} without debris--{2:} pct done -- {3:.2f}%\"\\\n",
    "                  .format(len(tile_with_debris),len(unique_debris_image_set), len(tile_without_debris),pct),end='\\r')"
   ]
  },
  {
   "cell_type": "code",
   "execution_count": 164,
   "metadata": {},
   "outputs": [
    {
     "data": {
      "text/plain": [
       "[{'type': 'Feature',\n",
       "  'properties': {'tile_name': '1_10_07_01.tif',\n",
       "   'directory': '1_10',\n",
       "   's3_path': 'https://s3-us-west-2.amazonaws.com/hawaii-marine-debris/niihau/1_10/1_10_07_01.tif'},\n",
       "  'geometry': {'type': 'Polygon',\n",
       "   'coordinates': [[[375494.86, 2409243.12],\n",
       "     [375514.86, 2409243.12],\n",
       "     [375514.86, 2409223.12],\n",
       "     [375494.86, 2409223.12],\n",
       "     [375494.86, 2409243.12]]]}}]"
      ]
     },
     "execution_count": 164,
     "metadata": {},
     "output_type": "execute_result"
    }
   ],
   "source": [
    "tiles_features[:1]"
   ]
  },
  {
   "cell_type": "code",
   "execution_count": 165,
   "metadata": {},
   "outputs": [],
   "source": [
    "# we don't need all of them.\n",
    "import random\n",
    "tile_without_debris_to_save = random.sample(tile_without_debris, 20000)"
   ]
  },
  {
   "cell_type": "code",
   "execution_count": 166,
   "metadata": {},
   "outputs": [
    {
     "data": {
      "text/plain": [
       "0"
      ]
     },
     "execution_count": 166,
     "metadata": {},
     "output_type": "execute_result"
    }
   ],
   "source": [
    "# len(csv_rows)# csv_rows = []\n"
   ]
  },
  {
   "cell_type": "code",
   "execution_count": 72,
   "metadata": {},
   "outputs": [],
   "source": [
    "# # os.path.isfile\n",
    "# csv_rows[:2]\n",
    "# downloaded_tile=set()"
   ]
  },
  {
   "cell_type": "code",
   "execution_count": 23,
   "metadata": {},
   "outputs": [
    {
     "name": "stdout",
     "output_type": "stream",
     "text": [
      "12654\r"
     ]
    }
   ],
   "source": [
    "for i, row in negative_tiles_df.iterrows():\n",
    "    s3_key = row.s3_key\n",
    "    jpg_path = \"/home/paperspace/data/images/niihau/\"+os.path.basename(row.s3_key)\n",
    "    print(i, end='\\r')\n",
    "    try:\n",
    "        s3_client.head_object(\n",
    "            Bucket=bucket_name,\n",
    "            Key=s3_key\n",
    "        )\n",
    "    except:\n",
    "        upload_to_s3(jpg_path, s3_key)\n",
    "        "
   ]
  },
  {
   "cell_type": "code",
   "execution_count": null,
   "metadata": {
    "ExecuteTime": {
     "end_time": "2018-10-02T16:22:16.691245Z",
     "start_time": "2018-10-02T23:13:56.927Z"
    }
   },
   "outputs": [],
   "source": [
    "#for negative images\n",
    "\n",
    "for tif_name in tile_without_debris_to_save:\n",
    "    s3filepath = tif_name.replace('https://s3-us-west-2.amazonaws.com/hawaii-marine-debris/','')\n",
    "    tmpfile = \"{}/images/niihau/{}\".format(root_folder, os.path.basename(s3filepath))\n",
    "\n",
    "    if tmpfile not in downloaded_tile:\n",
    "        s3_resource.Bucket(bucket_name).download_file(s3filepath, tmpfile)\n",
    "        downloaded_tile.add(tmpfile)\n",
    "    jpg_path = convert_tif_to_jpeg(tmpfile)    \n",
    "    s3_key = s3key_path_template.format(os.path.basename(jpg_path))\n",
    "    print(\"Uploaded %s: %s -> %s -> %s\" % (len(csv_rows),tmpfile, jpg_path, s3_key), end='\\r')\n",
    "    #already converted and uploaded\n",
    "    try:\n",
    "        s3_client.head_object(\n",
    "            Bucket=bucket_name,\n",
    "            Key=s3_key\n",
    "        )\n",
    "    except:\n",
    "        upload_to_s3(jpg_path, s3_key)\n",
    "    csv_rows.append((s3_key,\"\",\"\",\"\",\"\",\"\"))\n",
    "    "
   ]
  },
  {
   "cell_type": "code",
   "execution_count": 77,
   "metadata": {},
   "outputs": [
    {
     "data": {
      "text/plain": [
       "12655"
      ]
     },
     "execution_count": 77,
     "metadata": {},
     "output_type": "execute_result"
    }
   ],
   "source": [
    "csv_rows = list(set(csv_rows))\n",
    "len(csv_rows)"
   ]
  },
  {
   "cell_type": "code",
   "execution_count": 79,
   "metadata": {},
   "outputs": [],
   "source": [
    "import csv\n",
    "\n",
    "with open('negative_tiles.csv','w') as out:\n",
    "    csv_out=csv.writer(out)\n",
    "    csv_out.writerow(['s3_key','x0', 'y0','x1','y1', 'label'])\n",
    "    for row in csv_rows:\n",
    "        csv_out.writerow(row)"
   ]
  },
  {
   "cell_type": "code",
   "execution_count": 80,
   "metadata": {},
   "outputs": [],
   "source": [
    "s3_client.upload_file('negative_tiles.csv', bucket_name, \"niihau/negative_tiles_v2.csv\")"
   ]
  },
  {
   "cell_type": "code",
   "execution_count": 167,
   "metadata": {},
   "outputs": [],
   "source": [
    "debris_lookup = {}\n",
    "debris_s3_lookup = {}\n",
    "for debris in geo_json_in_search:\n",
    "    debris_lookup[debris['properties']['unique_pt_id']] = debris['properties']\n",
    "    if 's3_key' in debris:\n",
    "        debris_s3_lookup[os.path.basename(debris['s3_key'])] = debris['properties']\n",
    "# debris_s3_lookup"
   ]
  },
  {
   "cell_type": "code",
   "execution_count": 168,
   "metadata": {},
   "outputs": [
    {
     "data": {
      "text/plain": [
       "10674"
      ]
     },
     "execution_count": 168,
     "metadata": {},
     "output_type": "execute_result"
    }
   ],
   "source": [
    "len(tile_with_debris)"
   ]
  },
  {
   "cell_type": "code",
   "execution_count": 169,
   "metadata": {
    "ExecuteTime": {
     "end_time": "2018-09-16T00:16:59.445564Z",
     "start_time": "2018-09-15T23:23:39.909190Z"
    }
   },
   "outputs": [
    {
     "name": "stdout",
     "output_type": "stream",
     "text": [
      "convert image to JPEG, and convert bounding box to pixels\n",
      "10673 Uploaded 7784: /home/paperspace/data//images/niihau/2_940_37_04.tif -> /home/paperspace/data//images/niihau/2_940_37_04.jpg -> niihau/jpg/2_940_37_04.jpgpg\r"
     ]
    }
   ],
   "source": [
    "\n",
    "print(\"convert image to JPEG, and convert bounding box to pixels\")\n",
    "\n",
    "for idx, debris in enumerate(tile_with_debris):    \n",
    "    s3filepath = debris['image_s3'].replace('https://s3-us-west-2.amazonaws.com/hawaii-marine-debris/','')\n",
    "    tmpfile = \"{}/images/niihau/{}\".format(root_folder, os.path.basename(s3filepath))\n",
    "    if not unique_debris_image_set[debris['unique_pt_id']] == debris['image_s3']:\n",
    "        print('{} skip to avoid duplicate debris'.format(idx), end='\\r')\n",
    "        continue\n",
    "        \n",
    "    \n",
    "\n",
    "    if not os.path.isfile(tmpfile) and tmpfile not in downloaded_tile:\n",
    "        s3_resource.Bucket(bucket_name).download_file(s3filepath, tmpfile)\n",
    "        downloaded_tile.add(tmpfile)\n",
    "\n",
    "    pixel_coordinates = get_pixel_coordinates(tmpfile, debris['annotation'])\n",
    "    jpg_path = tmpfile.replace(\".tif\", \".jpg\")\n",
    "    if not os.path.isfile(jpg_path):\n",
    "        jpg_path = convert_tif_to_jpeg(tmpfile)    \n",
    "        \n",
    "    s3_key = s3key_path_template.format(os.path.basename(jpg_path))\n",
    "    print(\"%s Uploaded %s: %s -> %s -> %s\" % (idx, len(csv_rows),tmpfile, jpg_path, s3_key), end='\\r')\n",
    "    if not os.path.isfile(jpg_path) and (tmpfile not in downloaded_tile):\n",
    "        try:\n",
    "            s3_client.head_object(\n",
    "                Bucket=bucket_name,\n",
    "                Key=s3_key\n",
    "            )\n",
    "        except:\n",
    "            upload_to_s3(jpg_path, s3_key)\n",
    "    csv_rows.append((s3_key,)+ pixel_coordinates+(debris['label'],))\n",
    "    #free up storage once it's uploaded\n",
    "#     os.remove(jpg_path)\n",
    "#     os.remove(tmpfile)"
   ]
  },
  {
   "cell_type": "code",
   "execution_count": 170,
   "metadata": {},
   "outputs": [
    {
     "data": {
      "text/plain": [
       "7754"
      ]
     },
     "execution_count": 170,
     "metadata": {},
     "output_type": "execute_result"
    }
   ],
   "source": [
    "csv_rows = list(set(csv_rows))\n",
    "len(csv_rows)"
   ]
  },
  {
   "cell_type": "code",
   "execution_count": 171,
   "metadata": {},
   "outputs": [],
   "source": [
    "import csv\n",
    "\n",
    "with open('tiles_with_debris.csv','w') as out:\n",
    "    csv_out=csv.writer(out)\n",
    "    csv_out.writerow(['s3_key','x0', 'y0','x1','y1', 'label'])\n",
    "    for row in csv_rows:\n",
    "        csv_out.writerow(row)\n"
   ]
  },
  {
   "cell_type": "code",
   "execution_count": 172,
   "metadata": {},
   "outputs": [],
   "source": [
    "s3_client.upload_file('tiles_with_debris.csv', bucket_name, \"niihau/tiles_with_debris.csv\")\n"
   ]
  },
  {
   "cell_type": "code",
   "execution_count": 174,
   "metadata": {},
   "outputs": [],
   "source": [
    "positive_df = pd.read_csv('tiles_with_debris.csv', encoding='utf-8')\n",
    "negative_df = pd.read_csv('negative_tiles.csv', encoding='utf-8')\n"
   ]
  },
  {
   "cell_type": "code",
   "execution_count": 177,
   "metadata": {},
   "outputs": [
    {
     "data": {
      "text/html": [
       "<div>\n",
       "<style scoped>\n",
       "    .dataframe tbody tr th:only-of-type {\n",
       "        vertical-align: middle;\n",
       "    }\n",
       "\n",
       "    .dataframe tbody tr th {\n",
       "        vertical-align: top;\n",
       "    }\n",
       "\n",
       "    .dataframe thead th {\n",
       "        text-align: right;\n",
       "    }\n",
       "</style>\n",
       "<table border=\"1\" class=\"dataframe\">\n",
       "  <thead>\n",
       "    <tr style=\"text-align: right;\">\n",
       "      <th></th>\n",
       "      <th>s3_key</th>\n",
       "      <th>x0</th>\n",
       "      <th>y0</th>\n",
       "      <th>x1</th>\n",
       "      <th>y1</th>\n",
       "      <th>label</th>\n",
       "    </tr>\n",
       "  </thead>\n",
       "  <tbody>\n",
       "    <tr>\n",
       "      <th>0</th>\n",
       "      <td>niihau/jpg/2_720_03_01.jpg</td>\n",
       "      <td>308</td>\n",
       "      <td>524</td>\n",
       "      <td>358</td>\n",
       "      <td>474</td>\n",
       "      <td>F</td>\n",
       "    </tr>\n",
       "    <tr>\n",
       "      <th>1</th>\n",
       "      <td>niihau/jpg/2_1544_35_13.jpg</td>\n",
       "      <td>562</td>\n",
       "      <td>591</td>\n",
       "      <td>862</td>\n",
       "      <td>291</td>\n",
       "      <td>N</td>\n",
       "    </tr>\n",
       "    <tr>\n",
       "      <th>2</th>\n",
       "      <td>niihau/jpg/2_1699_22_04.jpg</td>\n",
       "      <td>215</td>\n",
       "      <td>730</td>\n",
       "      <td>265</td>\n",
       "      <td>680</td>\n",
       "      <td>B</td>\n",
       "    </tr>\n",
       "    <tr>\n",
       "      <th>3</th>\n",
       "      <td>niihau/jpg/1_1920_08_16.jpg</td>\n",
       "      <td>367</td>\n",
       "      <td>284</td>\n",
       "      <td>417</td>\n",
       "      <td>234</td>\n",
       "      <td>B</td>\n",
       "    </tr>\n",
       "    <tr>\n",
       "      <th>4</th>\n",
       "      <td>niihau/jpg/2_1189_39_18.jpg</td>\n",
       "      <td>773</td>\n",
       "      <td>545</td>\n",
       "      <td>823</td>\n",
       "      <td>495</td>\n",
       "      <td>B</td>\n",
       "    </tr>\n",
       "  </tbody>\n",
       "</table>\n",
       "</div>"
      ],
      "text/plain": [
       "                        s3_key   x0   y0   x1   y1 label\n",
       "0   niihau/jpg/2_720_03_01.jpg  308  524  358  474     F\n",
       "1  niihau/jpg/2_1544_35_13.jpg  562  591  862  291     N\n",
       "2  niihau/jpg/2_1699_22_04.jpg  215  730  265  680     B\n",
       "3  niihau/jpg/1_1920_08_16.jpg  367  284  417  234     B\n",
       "4  niihau/jpg/2_1189_39_18.jpg  773  545  823  495     B"
      ]
     },
     "execution_count": 177,
     "metadata": {},
     "output_type": "execute_result"
    }
   ],
   "source": [
    "positive_df[:5]"
   ]
  },
  {
   "cell_type": "code",
   "execution_count": 180,
   "metadata": {
    "ExecuteTime": {
     "end_time": "2018-09-16T00:30:57.307115Z",
     "start_time": "2018-09-16T00:30:57.300513Z"
    }
   },
   "outputs": [],
   "source": [
    "all_tiles_df = positive_df.append(negative_df)\n",
    "all_tiles_df.to_csv(\"all_tiles.csv\", encoding='utf-8')\n"
   ]
  },
  {
   "cell_type": "code",
   "execution_count": 181,
   "metadata": {},
   "outputs": [],
   "source": [
    "s3_client.upload_file('all_tiles.csv', bucket_name, \"niihau/all_tiles.csv\")\n"
   ]
  },
  {
   "cell_type": "code",
   "execution_count": null,
   "metadata": {
    "collapsed": true
   },
   "outputs": [],
   "source": []
  },
  {
   "cell_type": "code",
   "execution_count": null,
   "metadata": {
    "ExecuteTime": {
     "end_time": "2018-10-02T17:16:57.789342Z",
     "start_time": "2018-10-02T17:16:57.238287Z"
    }
   },
   "outputs": [],
   "source": [
    "import boto\n",
    "\n",
    "s3 = boto.connect_s3(profile_name='hawaii')\n",
    "bucket = s3.get_bucket('hawaii-marine-debris')\n",
    "\n",
    "for o in bucket.list(prefix='lanai/', delimiter='/'):\n",
    "    print(o.name)"
   ]
  },
  {
   "cell_type": "code",
   "execution_count": null,
   "metadata": {
    "ExecuteTime": {
     "end_time": "2018-10-03T05:22:43.991830Z",
     "start_time": "2018-10-03T05:22:41.922490Z"
    }
   },
   "outputs": [],
   "source": [
    "import io\n",
    "info_df=None\n",
    "tile_img_with_debris = []\n",
    "tile_img_without_debris = []\n",
    "for o in bucket.list(prefix='lanai/615/'):\n",
    "    if o.name.endswith('.csv'):\n",
    "        print(o.name)\n",
    "        obj = s3_client.get_object(Bucket=bucket_name, Key='lanai/2462/2462.tif.csv')\n",
    "        info_df = pd.read_csv(io.BytesIO(obj['Body'].read()),names=['img_name','x0','x1','y0','y1'],delimiter=';')\n",
    "        \n",
    "info_df"
   ]
  },
  {
   "cell_type": "code",
   "execution_count": null,
   "metadata": {
    "ExecuteTime": {
     "end_time": "2018-10-03T05:25:00.659459Z",
     "start_time": "2018-10-03T05:25:00.627513Z"
    }
   },
   "outputs": [],
   "source": [
    "debris_json = filter_debris_per_islands([\"lanai\"])\n",
    "df_with_debris=None\n",
    "\n",
    "for debris in debris_json:\n",
    "    target = find_min_xy(debris['geometry']['coordinates'][0])\n",
    "    df_with_debris = info_df.filter(\"x0 < {} and y0 <{} and x1 > {} and y1 > {}\".format(target[0],target[1],target[2],target[3]))\n",
    "    if len(df_with_debris)>0:\n",
    "        break\n",
    "        \n",
    "df_with_debris"
   ]
  },
  {
   "cell_type": "code",
   "execution_count": null,
   "metadata": {
    "ExecuteTime": {
     "end_time": "2018-09-15T15:25:48.136001Z",
     "start_time": "2018-09-15T15:25:46.348915Z"
    },
    "collapsed": true
   },
   "outputs": [],
   "source": [
    "s3_client.upload_file('annotated_marine_debris.csv', bucket_name, \"niihau/annotations.csv\")"
   ]
  }
 ],
 "metadata": {
  "anaconda-cloud": {},
  "kernelspec": {
   "display_name": "Python 3",
   "language": "python",
   "name": "python3"
  },
  "language_info": {
   "codemirror_mode": {
    "name": "ipython",
    "version": 3
   },
   "file_extension": ".py",
   "mimetype": "text/x-python",
   "name": "python",
   "nbconvert_exporter": "python",
   "pygments_lexer": "ipython3",
   "version": "3.6.6"
  }
 },
 "nbformat": 4,
 "nbformat_minor": 2
}
