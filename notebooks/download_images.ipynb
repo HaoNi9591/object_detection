{
 "cells": [
  {
   "cell_type": "code",
   "execution_count": null,
   "metadata": {
    "ExecuteTime": {
     "end_time": "2018-09-19T22:19:19.854982Z",
     "start_time": "2018-09-19T22:19:19.814200Z"
    }
   },
   "outputs": [],
   "source": [
    "\n",
    "bucket_name = 'hawaii-marine-debris'\n",
    "file_path_template = \"{}/jpg/{}\"\n",
    "downloaded_tile = set()\n",
    "csv_rows = []\n",
    "islands= ['niihau']#'lanai','bigisland',''\n",
    "local_tmp_folder = \"/home/paperspace/data\"\n",
    "local_tmp_image_folder = \"/home/paperspace/data/niihau/images/{filename}\"\n",
    "\n",
    "tile_with_debris = []\n"
   ]
  },
  {
   "cell_type": "code",
   "execution_count": null,
   "metadata": {
    "ExecuteTime": {
     "end_time": "2018-09-19T22:19:25.887347Z",
     "start_time": "2018-09-19T22:19:24.800889Z"
    }
   },
   "outputs": [],
   "source": [
    "import os\n",
    "import boto3 \n",
    "\n",
    "import boto3 \n",
    "boto3.setup_default_session(profile_name='hawaii')\n",
    "s3_client = boto3.client('s3')\n",
    "s3_resource = boto3.resource('s3')\n",
    "version='v2'\n",
    "\n",
    "s3_resource.Bucket(bucket_name).download_file(\"niihau/deduped_annotations.csv\", \"/tmp/niihau/annotations.csv\")\n",
    "def download_image_from_s3(s3_key, island='niihau'):\n",
    "    basename = os.path.basename(s3_key)\n",
    "    local_file_path = local_tmp_image_folder.format(island=island, filename=basename)\n",
    "    s3_resource.Bucket(bucket_name).download_file(s3_key, local_file_path)\n",
    "    return local_file_path"
   ]
  },
  {
   "cell_type": "code",
   "execution_count": null,
   "metadata": {
    "ExecuteTime": {
     "end_time": "2018-09-19T22:19:27.102566Z",
     "start_time": "2018-09-19T22:19:27.071426Z"
    }
   },
   "outputs": [],
   "source": [
    "import pandas as pd\n",
    "df  =pd.read_csv(\"/tmp/niihau/annotations.csv\")\n"
   ]
  },
  {
   "cell_type": "code",
   "execution_count": null,
   "metadata": {
    "ExecuteTime": {
     "end_time": "2018-09-19T22:19:55.205928Z",
     "start_time": "2018-09-19T22:19:55.188964Z"
    }
   },
   "outputs": [],
   "source": [
    "df.groupby('label').count()"
   ]
  },
  {
   "cell_type": "code",
   "execution_count": null,
   "metadata": {
    "ExecuteTime": {
     "end_time": "2018-09-19T22:19:59.894603Z",
     "start_time": "2018-09-19T22:19:59.780868Z"
    }
   },
   "outputs": [],
   "source": [
    "def local_file_path(s3_key, island='niihau'):\n",
    "    basename = os.path.basename(s3_key)\n",
    "    local_file_path = local_tmp_image_folder.format(island=island, filename=basename)\n",
    "    return local_file_path\n",
    "df['local_file_path'] = df['s3_key'].apply(local_file_path)"
   ]
  },
  {
   "cell_type": "code",
   "execution_count": null,
   "metadata": {
    "ExecuteTime": {
     "end_time": "2018-09-19T23:25:09.813674Z",
     "start_time": "2018-09-19T23:25:09.801173Z"
    }
   },
   "outputs": [],
   "source": [
    "import numpy as np\n",
    "msk = np.random.rand(len(df)) < 0.9\n",
    "\n",
    "train = df[msk]\n",
    "test = df[~msk]\n",
    "\n",
    "train[['local_file_path','x0','y0','x1','y1','label']].to_csv('keras_annotations_train.csv', encoding='utf-8', header=False, index=False)\n",
    "test[['local_file_path','x0','y0','x1','y1','label']].to_csv('keras_annotations_test.csv', encoding='utf-8', header=False, index=False)\n"
   ]
  },
  {
   "cell_type": "code",
   "execution_count": null,
   "metadata": {},
   "outputs": [],
   "source": [
    "\n",
    "for index, row in df[:20].iterrows():\n",
    "    local_file = download_image_from_s3(row['s3_key'])\n",
    "    print(local_file)"
   ]
  }
 ],
 "metadata": {
  "anaconda-cloud": {},
  "kernelspec": {
   "display_name": "Python 3",
   "language": "python",
   "name": "python3"
  },
  "language_info": {
   "codemirror_mode": {
    "name": "ipython",
    "version": 3
   },
   "file_extension": ".py",
   "mimetype": "text/x-python",
   "name": "python",
   "nbconvert_exporter": "python",
   "pygments_lexer": "ipython3",
   "version": "3.6.6"
  }
 },
 "nbformat": 4,
 "nbformat_minor": 2
}
