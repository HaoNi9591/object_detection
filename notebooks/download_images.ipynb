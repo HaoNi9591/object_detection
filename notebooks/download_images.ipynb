{
 "cells": [
  {
   "cell_type": "code",
   "execution_count": 28,
   "metadata": {
    "ExecuteTime": {
     "end_time": "2018-09-19T22:19:19.854982Z",
     "start_time": "2018-09-19T22:19:19.814200Z"
    },
    "collapsed": true
   },
   "outputs": [],
   "source": [
    "\n",
    "bucket_name = 'hawaii-marine-debris'\n",
    "file_path_template = \"{}/jpg/{}\"\n",
    "downloaded_tile = set()\n",
    "csv_rows = []\n",
    "islands= ['niihau']#'lanai','bigisland',''\n",
    "local_tmp_folder = \"/tmp/{}\"\n",
    "local_tmp_image_folder = \"/tmp/images/{island}/{filename}\"\n",
    "tile_with_debris = []\n"
   ]
  },
  {
   "cell_type": "code",
   "execution_count": 29,
   "metadata": {
    "ExecuteTime": {
     "end_time": "2018-09-19T22:19:25.887347Z",
     "start_time": "2018-09-19T22:19:24.800889Z"
    },
    "collapsed": true
   },
   "outputs": [],
   "source": [
    "import os\n",
    "import boto3 \n",
    "s3_client = boto3.client('s3',\n",
    "            aws_access_key_id=os.environ.get('hawaii_debris_access_key'),\n",
    "            aws_secret_access_key=os.environ.get('hawaii_debris_secret_key'))\n",
    "s3_resource = boto3.resource('s3',aws_access_key_id=os.environ.get('hawaii_debris_access_key'),\n",
    "            aws_secret_access_key=os.environ.get('hawaii_debris_secret_key'))\n",
    "    \n",
    "s3_resource.Bucket(bucket_name).download_file(\"niihau/deduped_annotations.csv\", \"/tmp/niihau/annotations.csv\")\n",
    "def download_image_from_s3(s3_key, island='niihau'):\n",
    "    basename = os.path.basename(s3_key)\n",
    "    local_file_path = local_tmp_image_folder.format(island=island, filename=basename)\n",
    "    s3_resource.Bucket(bucket_name).download_file(s3_key, local_file_path)\n",
    "    return local_file_path"
   ]
  },
  {
   "cell_type": "code",
   "execution_count": 30,
   "metadata": {
    "ExecuteTime": {
     "end_time": "2018-09-19T22:19:27.102566Z",
     "start_time": "2018-09-19T22:19:27.071426Z"
    },
    "collapsed": true
   },
   "outputs": [],
   "source": [
    "import pandas as pd\n",
    "df  =pd.read_csv(\"/tmp/niihau/annotations.csv\")\n"
   ]
  },
  {
   "cell_type": "code",
   "execution_count": 32,
   "metadata": {
    "ExecuteTime": {
     "end_time": "2018-09-19T22:19:55.205928Z",
     "start_time": "2018-09-19T22:19:55.188964Z"
    }
   },
   "outputs": [
    {
     "data": {
      "text/html": [
       "<div>\n",
       "<style>\n",
       "    .dataframe thead tr:only-child th {\n",
       "        text-align: right;\n",
       "    }\n",
       "\n",
       "    .dataframe thead th {\n",
       "        text-align: left;\n",
       "    }\n",
       "\n",
       "    .dataframe tbody tr th {\n",
       "        vertical-align: top;\n",
       "    }\n",
       "</style>\n",
       "<table border=\"1\" class=\"dataframe\">\n",
       "  <thead>\n",
       "    <tr style=\"text-align: right;\">\n",
       "      <th></th>\n",
       "      <th>s3_key</th>\n",
       "      <th>x0</th>\n",
       "      <th>y0</th>\n",
       "      <th>x1</th>\n",
       "      <th>y1</th>\n",
       "    </tr>\n",
       "    <tr>\n",
       "      <th>label</th>\n",
       "      <th></th>\n",
       "      <th></th>\n",
       "      <th></th>\n",
       "      <th></th>\n",
       "      <th></th>\n",
       "    </tr>\n",
       "  </thead>\n",
       "  <tbody>\n",
       "    <tr>\n",
       "      <th>B</th>\n",
       "      <td>1999</td>\n",
       "      <td>1999</td>\n",
       "      <td>1999</td>\n",
       "      <td>1999</td>\n",
       "      <td>1999</td>\n",
       "    </tr>\n",
       "    <tr>\n",
       "      <th>C</th>\n",
       "      <td>19</td>\n",
       "      <td>19</td>\n",
       "      <td>19</td>\n",
       "      <td>19</td>\n",
       "      <td>19</td>\n",
       "    </tr>\n",
       "    <tr>\n",
       "      <th>M</th>\n",
       "      <td>25</td>\n",
       "      <td>25</td>\n",
       "      <td>25</td>\n",
       "      <td>25</td>\n",
       "      <td>25</td>\n",
       "    </tr>\n",
       "    <tr>\n",
       "      <th>N</th>\n",
       "      <td>742</td>\n",
       "      <td>742</td>\n",
       "      <td>742</td>\n",
       "      <td>742</td>\n",
       "      <td>742</td>\n",
       "    </tr>\n",
       "    <tr>\n",
       "      <th>P</th>\n",
       "      <td>3658</td>\n",
       "      <td>3658</td>\n",
       "      <td>3658</td>\n",
       "      <td>3658</td>\n",
       "      <td>3658</td>\n",
       "    </tr>\n",
       "    <tr>\n",
       "      <th>T</th>\n",
       "      <td>306</td>\n",
       "      <td>306</td>\n",
       "      <td>306</td>\n",
       "      <td>306</td>\n",
       "      <td>306</td>\n",
       "    </tr>\n",
       "    <tr>\n",
       "      <th>V</th>\n",
       "      <td>12</td>\n",
       "      <td>12</td>\n",
       "      <td>12</td>\n",
       "      <td>12</td>\n",
       "      <td>12</td>\n",
       "    </tr>\n",
       "  </tbody>\n",
       "</table>\n",
       "</div>"
      ],
      "text/plain": [
       "       s3_key    x0    y0    x1    y1\n",
       "label                                \n",
       "B        1999  1999  1999  1999  1999\n",
       "C          19    19    19    19    19\n",
       "M          25    25    25    25    25\n",
       "N         742   742   742   742   742\n",
       "P        3658  3658  3658  3658  3658\n",
       "T         306   306   306   306   306\n",
       "V          12    12    12    12    12"
      ]
     },
     "execution_count": 32,
     "metadata": {},
     "output_type": "execute_result"
    }
   ],
   "source": [
    "df.groupby('label').count()"
   ]
  },
  {
   "cell_type": "code",
   "execution_count": 33,
   "metadata": {
    "ExecuteTime": {
     "end_time": "2018-09-19T22:19:59.894603Z",
     "start_time": "2018-09-19T22:19:59.780868Z"
    },
    "collapsed": true
   },
   "outputs": [],
   "source": [
    "def local_file_path(s3_key, island='niihau'):\n",
    "    basename = os.path.basename(s3_key)\n",
    "    local_file_path = local_tmp_image_folder.format(island=island, filename=basename)\n",
    "    return local_file_path\n",
    "df['local_file_path'] = df['s3_key'].apply(local_file_path)"
   ]
  },
  {
   "cell_type": "code",
   "execution_count": 39,
   "metadata": {
    "ExecuteTime": {
     "end_time": "2018-09-19T23:25:09.813674Z",
     "start_time": "2018-09-19T23:25:09.801173Z"
    },
    "collapsed": true
   },
   "outputs": [],
   "source": [
    "import numpy as np\n",
    "msk = np.random.rand(len(df)) < 0.9\n",
    "\n",
    "train = df[msk]\n",
    "test = df[~msk]\n",
    "\n",
    "train[['local_file_path','x0','y0','x1','y1','label']].to_csv('keras_annotations_train.csv', encoding='utf-8', header=False, index=False)\n",
    "test[['local_file_path','x0','y0','x1','y1','label']].to_csv('keras_annotations_test.csv', encoding='utf-8', header=False, index=False)\n"
   ]
  },
  {
   "cell_type": "code",
   "execution_count": null,
   "metadata": {
    "collapsed": true
   },
   "outputs": [],
   "source": [
    "\n",
    "for index, row in df[:20].iterrows():\n",
    "    local_file = download_image_from_s3(row['s3_key'])\n",
    "    print(local_file)"
   ]
  }
 ],
 "metadata": {
  "anaconda-cloud": {},
  "kernelspec": {
   "display_name": "Python 3",
   "language": "python",
   "name": "python3"
  },
  "language_info": {
   "codemirror_mode": {
    "name": "ipython",
    "version": 3
   },
   "file_extension": ".py",
   "mimetype": "text/x-python",
   "name": "python",
   "nbconvert_exporter": "python",
   "pygments_lexer": "ipython3",
   "version": "3.6.2"
  }
 },
 "nbformat": 4,
 "nbformat_minor": 2
}
