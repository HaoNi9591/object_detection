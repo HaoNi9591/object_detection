{
 "cells": [
  {
   "cell_type": "code",
   "execution_count": null,
   "metadata": {
    "ExecuteTime": {
     "end_time": "2018-09-20T22:43:16.277040Z",
     "start_time": "2018-09-20T22:43:16.267796Z"
    }
   },
   "outputs": [],
   "source": [
    "\n",
    "bucket_name = 'hawaii-marine-debris'\n",
    "file_path_template = \"{}/jpg/{}\"\n",
    "downloaded_tile = set()\n",
    "csv_rows = []\n",
    "islands= ['niihau']#'lanai','bigisland',''\n",
    "\n",
    "local_tmp_folder = \"/home/paperspace/data\"\n",
    "# /home/paperspace/data/images/niihau/\n",
    "local_tmp_image_folder = \"/home/paperspace/data/niihau/images/{filename}\"\n",
    "tile_with_debris = []\n"
   ]
  },
  {
   "cell_type": "code",
   "execution_count": null,
   "metadata": {
    "ExecuteTime": {
     "end_time": "2018-09-20T22:43:39.348710Z",
     "start_time": "2018-09-20T22:43:39.187061Z"
    }
   },
   "outputs": [],
   "source": [
    "# mkdir /tmp/niihau/"
   ]
  },
  {
   "cell_type": "code",
   "execution_count": null,
   "metadata": {
    "ExecuteTime": {
     "end_time": "2018-09-20T22:43:43.858230Z",
     "start_time": "2018-09-20T22:43:43.095122Z"
    }
   },
   "outputs": [],
   "source": [
    "import os\n",
    "import boto3 \n",
    "import boto3 \n",
    "boto3.setup_default_session(profile_name='hawaii')\n",
    "s3_client = boto3.client('s3')\n",
    "s3_resource = boto3.resource('s3')\n",
    "version='v2'\n",
    "\n",
    "s3_resource.Bucket(bucket_name).download_file(\"niihau/all_tiles.csv\", \"{}/all_tiles.csv\".format(local_tmp_folder))\n",
    "# s3://hawaii-marine-debris/ml/model/debris_090818.h5\n",
    "def download_image_from_s3(s3_key, island='niihau'):\n",
    "    basename = os.path.basename(s3_key)\n",
    "    local_file_path = local_tmp_image_folder.format(island=island, filename=basename)\n",
    "    s3_resource.Bucket(bucket_name).download_file(s3_key, local_file_path)\n",
    "    return local_file_path"
   ]
  },
  {
   "cell_type": "code",
   "execution_count": null,
   "metadata": {},
   "outputs": [],
   "source": [
    "s3_resource.Bucket(bucket_name).download_file(\"ml/model/debris_090818.h5\", \"{}/debris_090818.h5\".format(local_tmp_folder))\n"
   ]
  },
  {
   "cell_type": "code",
   "execution_count": null,
   "metadata": {},
   "outputs": [],
   "source": [
    "# s3_resource.Bucket(bucket_name).download_file(\"ml//all_tiles.csv\", \"{}/all_tiles.csv\".format(local_tmp_folder))\n",
    "s3_resource.Bucket(bucket_name).download_file(\"ml/v2/data/labels.csv\", \"{}/labels.csv\".format(local_tmp_folder))\n",
    "\n",
    "# s3://hawaii-marine-debris/"
   ]
  },
  {
   "cell_type": "code",
   "execution_count": null,
   "metadata": {},
   "outputs": [],
   "source": [
    "\"{}/debris_090818.h5\".format(local_tmp_folder)"
   ]
  },
  {
   "cell_type": "code",
   "execution_count": null,
   "metadata": {
    "ExecuteTime": {
     "end_time": "2018-09-20T22:48:50.313717Z",
     "start_time": "2018-09-20T22:48:50.201212Z"
    }
   },
   "outputs": [],
   "source": [
    "import pandas as pd\n",
    "df  =pd.read_csv(\"{}/all_tiles.csv\".format(local_tmp_folder))\n",
    "\n",
    "df['cleaner_label'] = df['label'].replace({'B':'Buoys','C': 'Cloth','F':'Foam','L':'Line','M':'Metal','N':'Net','P':'Plastic','T':'Tire','W':'Processedwood','V':'Boat','O':'Other'})\n",
    "# Bicycle,0\n",
    "# Boat,1\n",
    "# Surfboard,2\n",
    "# Bottle,3\n",
    "# Plastic bag,4\n",
    "# Wheel,5\n",
    "# Tire,6\n",
    "# Buoys,7\n",
    "# Cloth,8\n",
    "# Foam,9\n",
    "# Line,10\n",
    "# Metal,11\n",
    "# Net,12\n",
    "# Plastic,13\n",
    "# Processedwood,14\n",
    "# Other,15\n",
    "\n",
    "# Debris categories:\n",
    "# B = Buoys and floats\n",
    "# C = Cloth \n",
    "# F = Foam \n",
    "# L = Line (single pieces of rope, not net)\n",
    "# M = Metal\n",
    "# N = Net\n",
    "# P = Plastic\n",
    "# T = Tire\n",
    "# W = Processed wood\n",
    "# V = Vessel\n",
    "# O = Other \n",
    "\n",
    "len(df[df['cleaner_label'].isna()])"
   ]
  },
  {
   "cell_type": "code",
   "execution_count": null,
   "metadata": {
    "ExecuteTime": {
     "end_time": "2018-09-20T22:44:09.076140Z",
     "start_time": "2018-09-20T22:44:09.041295Z"
    }
   },
   "outputs": [],
   "source": [
    "df.groupby('label').count()"
   ]
  },
  {
   "cell_type": "code",
   "execution_count": null,
   "metadata": {},
   "outputs": [],
   "source": []
  },
  {
   "cell_type": "code",
   "execution_count": null,
   "metadata": {},
   "outputs": [],
   "source": [
    "df['x0']= df['x0'].fillna(0).astype(int)\n",
    "df['x1']= df['x1'].fillna(0).astype(int)\n",
    "df['y0']= df['y0'].fillna(0).astype(int)\n",
    "df['y1']= df['y1'].fillna(0).astype(int)\n",
    "# df['x0'] = df['x0'].fillna(0).astype(int)\n",
    "df"
   ]
  },
  {
   "cell_type": "code",
   "execution_count": null,
   "metadata": {
    "ExecuteTime": {
     "end_time": "2018-09-20T22:51:14.387568Z",
     "start_time": "2018-09-20T22:51:14.364790Z"
    }
   },
   "outputs": [],
   "source": [
    "local_tmp_image_folder = \"/home/paperspace/data/images/niihau/{filename}\"\n",
    "\n",
    "def local_file_path(s3_key, island='niihau'):\n",
    "    basename = os.path.basename(s3_key)\n",
    "    local_file_path = local_tmp_image_folder.format(island=island, filename=basename)\n",
    "    return local_file_path\n",
    "df['local_file_path'] = df['s3_key'].apply(local_file_path)"
   ]
  },
  {
   "cell_type": "code",
   "execution_count": null,
   "metadata": {
    "ExecuteTime": {
     "end_time": "2018-09-20T22:51:16.101314Z",
     "start_time": "2018-09-20T22:51:16.017575Z"
    }
   },
   "outputs": [],
   "source": [
    "import numpy as np\n",
    "msk = np.random.rand(len(df)) < 0.9\n",
    "\n",
    "train = df[msk]\n",
    "test = df[~msk]\n",
    "\n",
    "train[['local_file_path','x0','y1','x1','y0','cleaner_label']].to_csv('keras_annotations_train.csv', encoding='utf-8', header=False, index=False)\n",
    "test[['local_file_path','x0','y1','x1','y0','cleaner_label']].to_csv('keras_annotations_test.csv', encoding='utf-8', header=False, index=False)\n"
   ]
  },
  {
   "cell_type": "code",
   "execution_count": null,
   "metadata": {
    "ExecuteTime": {
     "end_time": "2018-09-20T22:52:50.875498Z",
     "start_time": "2018-09-20T22:52:47.253655Z"
    }
   },
   "outputs": [],
   "source": [
    "s3_client.upload_file('keras_annotations_train.csv', bucket_name, 'ml/v3/data/keras_annotations_train.csv')\n",
    "s3_client.upload_file('keras_annotations_test.csv', bucket_name, 'ml/v3/data/keras_annotations_test.csv')"
   ]
  },
  {
   "cell_type": "code",
   "execution_count": null,
   "metadata": {
    "ExecuteTime": {
     "end_time": "2018-09-20T22:53:40.082255Z",
     "start_time": "2018-09-20T22:53:40.023292Z"
    }
   },
   "outputs": [],
   "source": [
    "test[['local_file_path','x0','y1','x1','y0','cleaner_label']]"
   ]
  },
  {
   "cell_type": "code",
   "execution_count": null,
   "metadata": {},
   "outputs": [],
   "source": [
    "\n",
    "# for index, row in df[:20].iterrows():\n",
    "#     local_file = download_image_from_s3(row['s3_key'])\n",
    "#     print(local_file)"
   ]
  }
 ],
 "metadata": {
  "anaconda-cloud": {},
  "kernelspec": {
   "display_name": "Python 3",
   "language": "python",
   "name": "python3"
  },
  "language_info": {
   "codemirror_mode": {
    "name": "ipython",
    "version": 3
   },
   "file_extension": ".py",
   "mimetype": "text/x-python",
   "name": "python",
   "nbconvert_exporter": "python",
   "pygments_lexer": "ipython3",
   "version": "3.6.6"
  }
 },
 "nbformat": 4,
 "nbformat_minor": 2
}
