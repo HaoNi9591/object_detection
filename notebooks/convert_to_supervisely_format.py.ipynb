{
 "cells": [
  {
   "cell_type": "code",
   "execution_count": 113,
   "metadata": {
    "ExecuteTime": {
     "end_time": "2018-09-30T10:10:36.459593Z",
     "start_time": "2018-09-30T10:10:36.313120Z"
    }
   },
   "outputs": [
    {
     "name": "stdout",
     "output_type": "stream",
     "text": [
      "/home/paperspace/data\n"
     ]
    }
   ],
   "source": [
    "from __future__ import print_function\n",
    "\n",
    "import pandas as pd\n",
    "import os \n",
    "import boto3\n",
    "import json\n",
    "from datetime import datetime\n",
    "import boto3 \n",
    "\n",
    "ts = datetime.now().strftime(\"%Y-%m-%d\")\n",
    "    \n",
    "root_folder = os.getcwd()\n",
    "root_folder = \"/home/paperspace/data\"\n",
    "print(root_folder)\n",
    "image_root = '/home/paperspace/data/images/niihau'\n",
    "supervisely_folder_root = '/home/paperspace/.supervisely-agent/rQnKzzBnUneHRgIp0NOXDRU2URPEGPC5/import/marine_debris_ann_review'\n",
    "\n",
    "boto3.setup_default_session(profile_name='hawaii')\n",
    "s3_client = boto3.client('s3')\n",
    "s3_resource = boto3.resource('s3')\n",
    "bucket_name = 'hawaii-marine-debris'\n"
   ]
  },
  {
   "cell_type": "code",
   "execution_count": 114,
   "metadata": {},
   "outputs": [],
   "source": [
    "s3_resource.Bucket(bucket_name).download_file(\"ml/result/annotations_to_be_reviewed.csv\",\"{}/annotations_to_be_reviewed.csv\".format(root_folder))"
   ]
  },
  {
   "cell_type": "code",
   "execution_count": 115,
   "metadata": {},
   "outputs": [
    {
     "data": {
      "text/html": [
       "<div>\n",
       "<style scoped>\n",
       "    .dataframe tbody tr th:only-of-type {\n",
       "        vertical-align: middle;\n",
       "    }\n",
       "\n",
       "    .dataframe tbody tr th {\n",
       "        vertical-align: top;\n",
       "    }\n",
       "\n",
       "    .dataframe thead th {\n",
       "        text-align: right;\n",
       "    }\n",
       "</style>\n",
       "<table border=\"1\" class=\"dataframe\">\n",
       "  <thead>\n",
       "    <tr style=\"text-align: right;\">\n",
       "      <th></th>\n",
       "      <th>s3_key</th>\n",
       "      <th>x1</th>\n",
       "      <th>y1</th>\n",
       "      <th>x2</th>\n",
       "      <th>y2</th>\n",
       "      <th>label</th>\n",
       "      <th>priority_tag</th>\n",
       "      <th>tag</th>\n",
       "      <th>confidence_label</th>\n",
       "    </tr>\n",
       "  </thead>\n",
       "  <tbody>\n",
       "    <tr>\n",
       "      <th>0</th>\n",
       "      <td>niihau/jpg/1_1130_16_27.jpg</td>\n",
       "      <td>774.0</td>\n",
       "      <td>288.0</td>\n",
       "      <td>814.0</td>\n",
       "      <td>329.0</td>\n",
       "      <td>Plastic</td>\n",
       "      <td>high</td>\n",
       "      <td>false_positive</td>\n",
       "      <td>medium</td>\n",
       "    </tr>\n",
       "    <tr>\n",
       "      <th>1</th>\n",
       "      <td>niihau/jpg/1_1130_16_27.jpg</td>\n",
       "      <td>775.0</td>\n",
       "      <td>289.0</td>\n",
       "      <td>814.0</td>\n",
       "      <td>328.0</td>\n",
       "      <td>Processedwood</td>\n",
       "      <td>high</td>\n",
       "      <td>false_positive</td>\n",
       "      <td>low</td>\n",
       "    </tr>\n",
       "    <tr>\n",
       "      <th>2</th>\n",
       "      <td>niihau/jpg/1_1130_16_27.jpg</td>\n",
       "      <td>784.0</td>\n",
       "      <td>293.0</td>\n",
       "      <td>827.0</td>\n",
       "      <td>334.0</td>\n",
       "      <td>Plastic</td>\n",
       "      <td>high</td>\n",
       "      <td>false_positive</td>\n",
       "      <td>low</td>\n",
       "    </tr>\n",
       "    <tr>\n",
       "      <th>3</th>\n",
       "      <td>niihau/jpg/1_1130_16_27.jpg</td>\n",
       "      <td>774.0</td>\n",
       "      <td>289.0</td>\n",
       "      <td>814.0</td>\n",
       "      <td>329.0</td>\n",
       "      <td>Foam</td>\n",
       "      <td>high</td>\n",
       "      <td>false_positive</td>\n",
       "      <td>low</td>\n",
       "    </tr>\n",
       "    <tr>\n",
       "      <th>4</th>\n",
       "      <td>niihau/jpg/1_1378_24_28.jpg</td>\n",
       "      <td>741.0</td>\n",
       "      <td>660.0</td>\n",
       "      <td>781.0</td>\n",
       "      <td>700.0</td>\n",
       "      <td>Buoys</td>\n",
       "      <td>high</td>\n",
       "      <td>false_positive</td>\n",
       "      <td>medium</td>\n",
       "    </tr>\n",
       "  </tbody>\n",
       "</table>\n",
       "</div>"
      ],
      "text/plain": [
       "                        s3_key     x1     y1     x2     y2          label  \\\n",
       "0  niihau/jpg/1_1130_16_27.jpg  774.0  288.0  814.0  329.0        Plastic   \n",
       "1  niihau/jpg/1_1130_16_27.jpg  775.0  289.0  814.0  328.0  Processedwood   \n",
       "2  niihau/jpg/1_1130_16_27.jpg  784.0  293.0  827.0  334.0        Plastic   \n",
       "3  niihau/jpg/1_1130_16_27.jpg  774.0  289.0  814.0  329.0           Foam   \n",
       "4  niihau/jpg/1_1378_24_28.jpg  741.0  660.0  781.0  700.0          Buoys   \n",
       "\n",
       "  priority_tag             tag confidence_label  \n",
       "0         high  false_positive           medium  \n",
       "1         high  false_positive              low  \n",
       "2         high  false_positive              low  \n",
       "3         high  false_positive              low  \n",
       "4         high  false_positive           medium  "
      ]
     },
     "execution_count": 115,
     "metadata": {},
     "output_type": "execute_result"
    }
   ],
   "source": [
    "ann = pd.read_csv(\"{}/annotations_to_be_reviewed.csv\".format(root_folder))\n",
    "ann = ann.drop('Unnamed: 0',axis=1)\n",
    "ann[:5]"
   ]
  },
  {
   "cell_type": "code",
   "execution_count": 116,
   "metadata": {
    "ExecuteTime": {
     "end_time": "2018-09-30T09:27:07.481821Z",
     "start_time": "2018-09-30T09:26:51.236125Z"
    }
   },
   "outputs": [],
   "source": [
    "\n",
    "s3_resource.Bucket(bucket_name).download_file(\"niihau/final_marine_debris_database_NI_UTM4N_boxes.geojson\", \"{}/final_marine_debris_database_NI_UTM4N_boxes.geojson\".format(root_folder))\n",
    "s3_resource.Bucket(bucket_name).download_file(\"niihau/niihau_tileindex.geojson\", \"{}/niihau_tileindex.geojson\".format(root_folder))\n",
    "\n",
    "s3_resource.Bucket(bucket_name).download_file(\"niihau/new_annotations.csv\", \"{}/new_annotations.csv\".format(root_folder))\n",
    "\n",
    "# s3_resource.Bucket(bucket_name).download_file(\"niihau/annotations.csv\", \"{}/niihau/annotations.csv\".format(root_folder))\n"
   ]
  },
  {
   "cell_type": "code",
   "execution_count": 117,
   "metadata": {
    "ExecuteTime": {
     "end_time": "2018-09-30T09:32:47.806821Z",
     "start_time": "2018-09-30T09:32:47.377566Z"
    }
   },
   "outputs": [],
   "source": [
    "s3_resource.Bucket(bucket_name).download_file(\"ml/v2/data/labels.csv\", \"{}/niihau/labels.csv\".format(root_folder))\n",
    "# s3://hawaii-marine-debris/"
   ]
  },
  {
   "cell_type": "code",
   "execution_count": 118,
   "metadata": {
    "ExecuteTime": {
     "end_time": "2018-09-30T09:48:34.295068Z",
     "start_time": "2018-09-30T09:48:33.534179Z"
    }
   },
   "outputs": [
    {
     "data": {
      "text/html": [
       "<div>\n",
       "<style scoped>\n",
       "    .dataframe tbody tr th:only-of-type {\n",
       "        vertical-align: middle;\n",
       "    }\n",
       "\n",
       "    .dataframe tbody tr th {\n",
       "        vertical-align: top;\n",
       "    }\n",
       "\n",
       "    .dataframe thead th {\n",
       "        text-align: right;\n",
       "    }\n",
       "</style>\n",
       "<table border=\"1\" class=\"dataframe\">\n",
       "  <thead>\n",
       "    <tr style=\"text-align: right;\">\n",
       "      <th></th>\n",
       "      <th>label</th>\n",
       "      <th>id</th>\n",
       "    </tr>\n",
       "  </thead>\n",
       "  <tbody>\n",
       "    <tr>\n",
       "      <th>0</th>\n",
       "      <td>Bicycle</td>\n",
       "      <td>0</td>\n",
       "    </tr>\n",
       "    <tr>\n",
       "      <th>1</th>\n",
       "      <td>Boat</td>\n",
       "      <td>1</td>\n",
       "    </tr>\n",
       "    <tr>\n",
       "      <th>2</th>\n",
       "      <td>Surfboard</td>\n",
       "      <td>2</td>\n",
       "    </tr>\n",
       "    <tr>\n",
       "      <th>3</th>\n",
       "      <td>Bottle</td>\n",
       "      <td>3</td>\n",
       "    </tr>\n",
       "    <tr>\n",
       "      <th>4</th>\n",
       "      <td>Plastic bag</td>\n",
       "      <td>4</td>\n",
       "    </tr>\n",
       "    <tr>\n",
       "      <th>5</th>\n",
       "      <td>Wheel</td>\n",
       "      <td>5</td>\n",
       "    </tr>\n",
       "    <tr>\n",
       "      <th>6</th>\n",
       "      <td>Tire</td>\n",
       "      <td>6</td>\n",
       "    </tr>\n",
       "    <tr>\n",
       "      <th>7</th>\n",
       "      <td>Buoys</td>\n",
       "      <td>7</td>\n",
       "    </tr>\n",
       "    <tr>\n",
       "      <th>8</th>\n",
       "      <td>Cloth</td>\n",
       "      <td>8</td>\n",
       "    </tr>\n",
       "    <tr>\n",
       "      <th>9</th>\n",
       "      <td>Foam</td>\n",
       "      <td>9</td>\n",
       "    </tr>\n",
       "    <tr>\n",
       "      <th>10</th>\n",
       "      <td>Line</td>\n",
       "      <td>10</td>\n",
       "    </tr>\n",
       "    <tr>\n",
       "      <th>11</th>\n",
       "      <td>Metal</td>\n",
       "      <td>11</td>\n",
       "    </tr>\n",
       "    <tr>\n",
       "      <th>12</th>\n",
       "      <td>Net</td>\n",
       "      <td>12</td>\n",
       "    </tr>\n",
       "    <tr>\n",
       "      <th>13</th>\n",
       "      <td>Plastic</td>\n",
       "      <td>13</td>\n",
       "    </tr>\n",
       "    <tr>\n",
       "      <th>14</th>\n",
       "      <td>Processedwood</td>\n",
       "      <td>14</td>\n",
       "    </tr>\n",
       "    <tr>\n",
       "      <th>15</th>\n",
       "      <td>Other</td>\n",
       "      <td>15</td>\n",
       "    </tr>\n",
       "  </tbody>\n",
       "</table>\n",
       "</div>"
      ],
      "text/plain": [
       "            label  id\n",
       "0         Bicycle   0\n",
       "1            Boat   1\n",
       "2       Surfboard   2\n",
       "3          Bottle   3\n",
       "4     Plastic bag   4\n",
       "5           Wheel   5\n",
       "6            Tire   6\n",
       "7           Buoys   7\n",
       "8           Cloth   8\n",
       "9            Foam   9\n",
       "10           Line  10\n",
       "11          Metal  11\n",
       "12            Net  12\n",
       "13        Plastic  13\n",
       "14  Processedwood  14\n",
       "15          Other  15"
      ]
     },
     "execution_count": 118,
     "metadata": {},
     "output_type": "execute_result"
    }
   ],
   "source": [
    "s3_resource.Bucket(bucket_name).download_file(\"niihau/deduped_annotations.csv\", \"{}/niihau/annotations.csv\".format(root_folder))\n",
    "labels_df = pd.read_csv(\"{}/niihau/labels.csv\".format(root_folder), encoding='utf-8',names=['label','id'])\n",
    "labels_df"
   ]
  },
  {
   "cell_type": "code",
   "execution_count": 119,
   "metadata": {},
   "outputs": [
    {
     "data": {
      "text/plain": [
       "{0: 'Bicycle',\n",
       " 1: 'Boat',\n",
       " 2: 'Surfboard',\n",
       " 3: 'Bottle',\n",
       " 4: 'Plastic bag',\n",
       " 5: 'Wheel',\n",
       " 6: 'Tire',\n",
       " 7: 'Buoys',\n",
       " 8: 'Cloth',\n",
       " 9: 'Foam',\n",
       " 10: 'Line',\n",
       " 11: 'Metal',\n",
       " 12: 'Net',\n",
       " 13: 'Plastic',\n",
       " 14: 'Processedwood',\n",
       " 15: 'Other'}"
      ]
     },
     "execution_count": 119,
     "metadata": {},
     "output_type": "execute_result"
    }
   ],
   "source": [
    "\n",
    "label_lookup = labels_df.set_index('id').T.to_dict('records')[0]\n",
    "label_lookup "
   ]
  },
  {
   "cell_type": "code",
   "execution_count": 120,
   "metadata": {
    "ExecuteTime": {
     "end_time": "2018-09-30T09:57:09.215180Z",
     "start_time": "2018-09-30T09:57:09.179503Z"
    }
   },
   "outputs": [],
   "source": [
    "# if only_new:\n",
    "#     annotations_df = pd.read_csv(\"{}/new_annotations.csv\".format(root_folder), encoding='utf-8')\n",
    "#     annotations_df = annotations_df.rename(columns={'image_s3_key':'s3_key'})\n",
    "\n",
    "# else:\n",
    "#     annotations_df = pd.read_csv(\"{}/niihau/annotations.csv\".format(root_folder), encoding='utf-8')\n",
    "\n",
    "#     annotations_df['label'] = annotations_df['label'].replace({'B':'Buoys','C': 'Cloth','F':'Foam','L':'Line','M':'Metal','N':'Net','P':'Plastic','T':'Tire','W':'Processedwood','V':'Boat'})\n"
   ]
  },
  {
   "cell_type": "code",
   "execution_count": 121,
   "metadata": {
    "ExecuteTime": {
     "end_time": "2018-09-30T09:40:27.829550Z",
     "start_time": "2018-09-30T09:40:27.822524Z"
    }
   },
   "outputs": [
    {
     "data": {
      "text/plain": [
       "'#3259FE'"
      ]
     },
     "execution_count": 121,
     "metadata": {},
     "output_type": "execute_result"
    }
   ],
   "source": [
    "import random\n",
    "def random_color():\n",
    "    r = lambda: random.randint(0,255)\n",
    "    return '#%02X%02X%02X' % (r(),r(),r())\n",
    "random_color()"
   ]
  },
  {
   "cell_type": "code",
   "execution_count": 122,
   "metadata": {
    "ExecuteTime": {
     "end_time": "2018-09-30T09:37:39.001684Z",
     "start_time": "2018-09-30T09:37:38.996276Z"
    }
   },
   "outputs": [
    {
     "name": "stdout",
     "output_type": "stream",
     "text": [
      "Bicycle\n"
     ]
    }
   ],
   "source": [
    "for i, v in labels_df.iterrows():\n",
    "    print(v.label)\n",
    "    break"
   ]
  },
  {
   "cell_type": "code",
   "execution_count": 139,
   "metadata": {},
   "outputs": [],
   "source": [
    "\n",
    "if not os.path.isdir(\"{}/ann\".format(image_root)):\n",
    "    os.mkdir(\"{}/ann\".format(image_root))\n",
    "niihau_sup_root = supervisely_folder_root+\"/niihau\"\n",
    "niihau_img_root = \"{}/img\".format(niihau_sup_root)\n",
    "\n",
    "\n",
    "# os.mkdir(niihau_sup_root)\n",
    "os.makedirs(niihau_img_root)\n",
    "os.makedirs(\"{}/ann\".format(niihau_sup_root))"
   ]
  },
  {
   "cell_type": "code",
   "execution_count": 140,
   "metadata": {},
   "outputs": [
    {
     "data": {
      "text/plain": [
       "['Bicycle',\n",
       " 'Boat',\n",
       " 'Surfboard',\n",
       " 'Bottle',\n",
       " 'Plastic bag',\n",
       " 'Wheel',\n",
       " 'Tire',\n",
       " 'Buoys',\n",
       " 'Cloth',\n",
       " 'Foam',\n",
       " 'Line',\n",
       " 'Metal',\n",
       " 'Net',\n",
       " 'Plastic',\n",
       " 'Processedwood',\n",
       " 'Other']"
      ]
     },
     "execution_count": 140,
     "metadata": {},
     "output_type": "execute_result"
    }
   ],
   "source": [
    "label_list = labels_df['label'].unique().tolist()\n",
    "label_list"
   ]
  },
  {
   "cell_type": "code",
   "execution_count": 141,
   "metadata": {
    "ExecuteTime": {
     "end_time": "2018-09-30T10:13:15.546264Z",
     "start_time": "2018-09-30T10:13:15.529070Z"
    }
   },
   "outputs": [
    {
     "name": "stdout",
     "output_type": "stream",
     "text": [
      "1000 1000\n"
     ]
    }
   ],
   "source": [
    "def get_image(s3_key):\n",
    "    local_image_path = \"{}/{}\".format(image_root, os.path.basename(s3_key))\n",
    "    if not os.path.isfile(local_image_path):\n",
    "        s3_resource.Bucket(bucket_name).download_file(s3_key, local_image_path)\n",
    "    return local_image_path\n",
    "\n",
    "from PIL import Image\n",
    "\n",
    "def get_width_height(s3_key):\n",
    "    img_path = get_image(s3_key)\n",
    "    im = Image.open(img_path)\n",
    "    width, height = im.size\n",
    "    return width, height\n",
    "width, height = get_width_height(\"niihau/jpg/1_1920_04_07.jpg\")\n",
    "print(width, height)"
   ]
  },
  {
   "cell_type": "code",
   "execution_count": 142,
   "metadata": {},
   "outputs": [
    {
     "data": {
      "text/plain": [
       "array(['false_positive', 'false_negative'], dtype=object)"
      ]
     },
     "execution_count": 142,
     "metadata": {},
     "output_type": "execute_result"
    }
   ],
   "source": [
    "ann['label'] = ann['label'].replace({'wood':'Processedwood','O':'Other'})\n",
    "ann['tag'].unique()"
   ]
  },
  {
   "cell_type": "code",
   "execution_count": 143,
   "metadata": {},
   "outputs": [],
   "source": [
    "for label in ann['label'].unique().tolist():\n",
    "    if label not in label_list:\n",
    "        print(\"{} not exists\".format(label))"
   ]
  },
  {
   "cell_type": "code",
   "execution_count": 144,
   "metadata": {},
   "outputs": [
    {
     "name": "stdout",
     "output_type": "stream",
     "text": [
      "342\n"
     ]
    }
   ],
   "source": [
    "print(len(ann[ann['confidence_label'].isin(['medium','high','manual'])]))\n",
    "\n",
    "ann = ann[ann['confidence_label'].isin(['medium','high','manual'])]"
   ]
  },
  {
   "cell_type": "code",
   "execution_count": 145,
   "metadata": {
    "ExecuteTime": {
     "start_time": "2018-09-30T10:21:35.680Z"
    }
   },
   "outputs": [],
   "source": [
    "from shutil import copyfile\n",
    "\n",
    "object_tags = set()\n",
    "all_image_tags = set()\n",
    "def generate_image_json(image_name, island, list_of_debris):\n",
    "    width, height = get_width_height(image_name)\n",
    "    random_reviewer =\"reviewer_{}\".format(random.randint(1, 5))\n",
    "    image_tags = set([\"needs_review\",random_reviewer])\n",
    "    \n",
    "    for d in list_of_debris:\n",
    "        for t in d[\"tags\"]:\n",
    "            image_tags.add(t)\n",
    "            all_image_tags.add(t)\n",
    "        \n",
    "    return {\n",
    "        \"description\": \"{}_{}\".format(island,image_name),\n",
    "        \"name\": \"{}_{}\".format(island,image_name),\n",
    "        \"size\": {\n",
    "            \"width\": 1024,\n",
    "            \"height\": 1024\n",
    "        },\n",
    "        \"tags\": list(image_tags),\n",
    "        \"objects\": list_of_debris\n",
    "        }\n",
    "def generate_obj_json(debris_row):\n",
    "    \n",
    "    \n",
    "    this_object_tags = [debris_row.tag, \"priority_{}\".format(debris_row.priority_tag)]\n",
    "    if debris_row.confidence_label == 'confidence_manual':\n",
    "        this_object_tags.add(\"confidence_{}\".format(debris_row.confidence_label))\n",
    "    for t in this_object_tags:\n",
    "        object_tags.add(t)\n",
    "    return {\n",
    "      \"description\": debris_row.label,\n",
    "      \"tags\": this_object_tags,\n",
    "      \"bitmap\": None,\n",
    "      \"classTitle\": debris_row.label,\n",
    "      \"points\": {\n",
    "        \"exterior\": [\n",
    "          [\n",
    "            debris_row.x1,\n",
    "            debris_row.y1\n",
    "          ],\n",
    "          [\n",
    "            debris_row.x2,\n",
    "            debris_row.y2\n",
    "          ]\n",
    "        ],\n",
    "        \"interior\": []\n",
    "      }\n",
    "    }\n",
    "\n",
    "for key, grouped in ann.groupby('s3_key'):\n",
    "    list_of_objs = []\n",
    "    for i, val in grouped.iterrows():\n",
    "        list_of_objs.append(generate_obj_json(val))\n",
    "    json_per_image = generate_image_json(key, 'niihau', list_of_objs)\n",
    "#     print(json.dumps(json_per_image, indent=4))\n",
    "    src_img_path = \"{}/{}\".format(image_root, os.path.basename(key))\n",
    "    dst_img_path = \"{}/{}\".format(niihau_img_root, os.path.basename(key))\n",
    "    copyfile(src_img_path, dst_img_path)\n",
    "    json_file_name = \"{}/ann/{}\".format(niihau_sup_root, os.path.basename(key).replace(\".jpg\",\".json\"))\n",
    "    with open(json_file_name, 'w') as outfile:\n",
    "        json.dump(json_per_image, outfile)\n"
   ]
  },
  {
   "cell_type": "code",
   "execution_count": 146,
   "metadata": {},
   "outputs": [
    {
     "name": "stdout",
     "output_type": "stream",
     "text": [
      "['false_positive', 'false_negative', 'priority_high', 'urgent', 'risk', 'low_risk']\n"
     ]
    },
    {
     "data": {
      "text/plain": [
       "['inconclusive',\n",
       " 'review_done',\n",
       " 'reviewer_3',\n",
       " 'reviewer_4',\n",
       " 'needs_review',\n",
       " 'false_negative',\n",
       " 'debris_deleted',\n",
       " 'priority_high',\n",
       " 'fixed',\n",
       " 'reviewer_5',\n",
       " 'found_new_debris',\n",
       " 'reviewer_2',\n",
       " 'debris',\n",
       " 'false_positive',\n",
       " 'reviewer_1']"
      ]
     },
     "execution_count": 146,
     "metadata": {},
     "output_type": "execute_result"
    }
   ],
   "source": [
    "o_tags = list(object_tags)+[\"urgent\",\"risk\",\"low_risk\"]\n",
    "print(o_tags)\n",
    "i_tags = set([\"inconclusive\",\"debris_deleted\",\"found_new_debris\",\"needs_review\",\"fixed\",'review_done','debris','reviewer_1','reviewer_2','reviewer_3','reviewer_4', 'reviewer_5'])\n",
    "for tag in all_image_tags:\n",
    "    i_tags.add(tag)\n",
    "list(i_tags)"
   ]
  },
  {
   "cell_type": "code",
   "execution_count": 147,
   "metadata": {},
   "outputs": [
    {
     "data": {
      "text/plain": [
       "{'debris',\n",
       " 'debris_deleted',\n",
       " 'false_negative',\n",
       " 'false_positive',\n",
       " 'fixed',\n",
       " 'found_new_debris',\n",
       " 'inconclusive',\n",
       " 'needs_review',\n",
       " 'priority_high',\n",
       " 'review_done',\n",
       " 'reviewer_1',\n",
       " 'reviewer_2',\n",
       " 'reviewer_3',\n",
       " 'reviewer_4',\n",
       " 'reviewer_5'}"
      ]
     },
     "execution_count": 147,
     "metadata": {},
     "output_type": "execute_result"
    }
   ],
   "source": [
    "i_tags"
   ]
  },
  {
   "cell_type": "code",
   "execution_count": 148,
   "metadata": {},
   "outputs": [],
   "source": [
    "d = {\n",
    "    \"tags_objects\": o_tags,\n",
    "    \"tags_images\": list(i_tags),\n",
    "    \"classes\":[]\n",
    "}\n",
    "\n",
    "for i, v in labels_df.iterrows():\n",
    "    color_dict = {\"title\":v.label,\n",
    "                  'color':random_color(),\n",
    "                  'shape':'rectangle'\n",
    "                  }\n",
    "    d['classes'].append(color_dict)\n",
    "    \n",
    "meta_json_path = \"{}/meta.json\".format(supervisely_folder_root)\n",
    "with open(meta_json_path, 'w') as outfile:\n",
    "    json.dump(d, outfile)\n"
   ]
  },
  {
   "cell_type": "code",
   "execution_count": 112,
   "metadata": {},
   "outputs": [
    {
     "data": {
      "text/plain": [
       "'/home/paperspace/.supervisely-agent/rQnKzzBnUneHRgIp0NOXDRU2URPEGPC5/import/marine_debris_ann_review/meta.json'"
      ]
     },
     "execution_count": 112,
     "metadata": {},
     "output_type": "execute_result"
    }
   ],
   "source": [
    "meta_json_path"
   ]
  },
  {
   "cell_type": "code",
   "execution_count": 78,
   "metadata": {},
   "outputs": [
    {
     "data": {
      "text/plain": [
       "'/home/paperspace/.supervisely-agent/rQnKzzBnUneHRgIp0NOXDRU2URPEGPC5/import/marine_debris_ann_review/niihau'"
      ]
     },
     "execution_count": 78,
     "metadata": {},
     "output_type": "execute_result"
    }
   ],
   "source": [
    "niihau_sup_root"
   ]
  },
  {
   "cell_type": "code",
   "execution_count": null,
   "metadata": {},
   "outputs": [],
   "source": []
  }
 ],
 "metadata": {
  "anaconda-cloud": {},
  "kernelspec": {
   "display_name": "Python 3",
   "language": "python",
   "name": "python3"
  },
  "language_info": {
   "codemirror_mode": {
    "name": "ipython",
    "version": 3
   },
   "file_extension": ".py",
   "mimetype": "text/x-python",
   "name": "python",
   "nbconvert_exporter": "python",
   "pygments_lexer": "ipython3",
   "version": "3.6.6"
  }
 },
 "nbformat": 4,
 "nbformat_minor": 2
}
