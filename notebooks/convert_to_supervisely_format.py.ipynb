{
 "cells": [
  {
   "cell_type": "code",
   "execution_count": 79,
   "metadata": {
    "ExecuteTime": {
     "end_time": "2018-09-30T10:10:36.459593Z",
     "start_time": "2018-09-30T10:10:36.313120Z"
    }
   },
   "outputs": [
    {
     "name": "stdout",
     "output_type": "stream",
     "text": [
      "/Users/yutakahosoai/project/data/aerial\n"
     ]
    }
   ],
   "source": [
    "from __future__ import print_function\n",
    "\n",
    "import pandas as pd\n",
    "import os \n",
    "import boto3\n",
    "from datetime import datetime\n",
    "ts = datetime.now().strftime(\"%Y-%m-%d\")\n",
    "    \n",
    "root_folder = os.getcwd()\n",
    "root_folder = \"/Users/yutakahosoai/project/data/aerial\"\n",
    "print(root_folder)\n",
    "image_root = '/Users/yutakahosoai/project/data/aerial/niihau/jpgs'\n",
    "\n",
    "import boto3 \n",
    "boto3.setup_default_session(profile_name='hawaii')\n",
    "s3_client = boto3.client('s3')\n",
    "s3_resource = boto3.resource('s3')\n",
    "bucket_name = 'hawaii-marine-debris'\n"
   ]
  },
  {
   "cell_type": "code",
   "execution_count": 7,
   "metadata": {
    "ExecuteTime": {
     "end_time": "2018-09-30T09:27:07.481821Z",
     "start_time": "2018-09-30T09:26:51.236125Z"
    }
   },
   "outputs": [],
   "source": [
    "\n",
    "s3_resource.Bucket(bucket_name).download_file(\"niihau/final_marine_debris_database_NI_UTM4N_boxes.geojson\", \"{}/final_marine_debris_database_NI_UTM4N_boxes.geojson\".format(root_folder))\n",
    "s3_resource.Bucket(bucket_name).download_file(\"niihau/niihau_tileindex.geojson\", \"{}/niihau_tileindex.geojson\".format(root_folder))\n",
    "\n",
    "# s3_resource.Bucket(bucket_name).download_file(\"niihau/annotations.csv\", \"{}/niihau/annotations.csv\".format(root_folder))\n"
   ]
  },
  {
   "cell_type": "code",
   "execution_count": 11,
   "metadata": {
    "ExecuteTime": {
     "end_time": "2018-09-30T09:32:47.806821Z",
     "start_time": "2018-09-30T09:32:47.377566Z"
    },
    "collapsed": true
   },
   "outputs": [],
   "source": [
    "s3_resource.Bucket(bucket_name).download_file(\"ml/v2/data/labels.csv\", \"{}/niihau/labels.csv\".format(root_folder))\n",
    "# s3://hawaii-marine-debris/"
   ]
  },
  {
   "cell_type": "code",
   "execution_count": 42,
   "metadata": {
    "ExecuteTime": {
     "end_time": "2018-09-30T09:48:34.295068Z",
     "start_time": "2018-09-30T09:48:33.534179Z"
    }
   },
   "outputs": [
    {
     "data": {
      "text/html": [
       "<div>\n",
       "<style>\n",
       "    .dataframe thead tr:only-child th {\n",
       "        text-align: right;\n",
       "    }\n",
       "\n",
       "    .dataframe thead th {\n",
       "        text-align: left;\n",
       "    }\n",
       "\n",
       "    .dataframe tbody tr th {\n",
       "        vertical-align: top;\n",
       "    }\n",
       "</style>\n",
       "<table border=\"1\" class=\"dataframe\">\n",
       "  <thead>\n",
       "    <tr style=\"text-align: right;\">\n",
       "      <th></th>\n",
       "      <th>label</th>\n",
       "      <th>id</th>\n",
       "    </tr>\n",
       "  </thead>\n",
       "  <tbody>\n",
       "    <tr>\n",
       "      <th>0</th>\n",
       "      <td>Bicycle</td>\n",
       "      <td>0</td>\n",
       "    </tr>\n",
       "    <tr>\n",
       "      <th>1</th>\n",
       "      <td>Boat</td>\n",
       "      <td>1</td>\n",
       "    </tr>\n",
       "    <tr>\n",
       "      <th>2</th>\n",
       "      <td>Surfboard</td>\n",
       "      <td>2</td>\n",
       "    </tr>\n",
       "    <tr>\n",
       "      <th>3</th>\n",
       "      <td>Bottle</td>\n",
       "      <td>3</td>\n",
       "    </tr>\n",
       "    <tr>\n",
       "      <th>4</th>\n",
       "      <td>Plastic bag</td>\n",
       "      <td>4</td>\n",
       "    </tr>\n",
       "    <tr>\n",
       "      <th>5</th>\n",
       "      <td>Wheel</td>\n",
       "      <td>5</td>\n",
       "    </tr>\n",
       "    <tr>\n",
       "      <th>6</th>\n",
       "      <td>Tire</td>\n",
       "      <td>6</td>\n",
       "    </tr>\n",
       "    <tr>\n",
       "      <th>7</th>\n",
       "      <td>Buoys</td>\n",
       "      <td>7</td>\n",
       "    </tr>\n",
       "    <tr>\n",
       "      <th>8</th>\n",
       "      <td>Cloth</td>\n",
       "      <td>8</td>\n",
       "    </tr>\n",
       "    <tr>\n",
       "      <th>9</th>\n",
       "      <td>Foam</td>\n",
       "      <td>9</td>\n",
       "    </tr>\n",
       "    <tr>\n",
       "      <th>10</th>\n",
       "      <td>Line</td>\n",
       "      <td>10</td>\n",
       "    </tr>\n",
       "    <tr>\n",
       "      <th>11</th>\n",
       "      <td>Metal</td>\n",
       "      <td>11</td>\n",
       "    </tr>\n",
       "    <tr>\n",
       "      <th>12</th>\n",
       "      <td>Net</td>\n",
       "      <td>12</td>\n",
       "    </tr>\n",
       "    <tr>\n",
       "      <th>13</th>\n",
       "      <td>Plastic</td>\n",
       "      <td>13</td>\n",
       "    </tr>\n",
       "    <tr>\n",
       "      <th>14</th>\n",
       "      <td>Processedwood</td>\n",
       "      <td>14</td>\n",
       "    </tr>\n",
       "    <tr>\n",
       "      <th>15</th>\n",
       "      <td>Other</td>\n",
       "      <td>15</td>\n",
       "    </tr>\n",
       "  </tbody>\n",
       "</table>\n",
       "</div>"
      ],
      "text/plain": [
       "            label  id\n",
       "0         Bicycle   0\n",
       "1            Boat   1\n",
       "2       Surfboard   2\n",
       "3          Bottle   3\n",
       "4     Plastic bag   4\n",
       "5           Wheel   5\n",
       "6            Tire   6\n",
       "7           Buoys   7\n",
       "8           Cloth   8\n",
       "9            Foam   9\n",
       "10           Line  10\n",
       "11          Metal  11\n",
       "12            Net  12\n",
       "13        Plastic  13\n",
       "14  Processedwood  14\n",
       "15          Other  15"
      ]
     },
     "execution_count": 42,
     "metadata": {},
     "output_type": "execute_result"
    }
   ],
   "source": [
    "s3_resource.Bucket(bucket_name).download_file(\"niihau/deduped_annotations.csv\", \"{}/niihau/annotations.csv\".format(root_folder))\n",
    "labels_df = pd.read_csv(\"{}/niihau/labels.csv\".format(root_folder), encoding='utf-8',names=['label','id'])\n",
    "labels_df"
   ]
  },
  {
   "cell_type": "code",
   "execution_count": 62,
   "metadata": {
    "ExecuteTime": {
     "end_time": "2018-09-30T09:57:09.215180Z",
     "start_time": "2018-09-30T09:57:09.179503Z"
    }
   },
   "outputs": [
    {
     "name": "stdout",
     "output_type": "stream",
     "text": [
      "niihau/jpg/1_1920_04_07.jpg\n",
      "1\n",
      "niihau/jpg/1_1920_05_11.jpg\n",
      "1\n",
      "niihau/jpg/1_1920_06_12.jpg\n",
      "1\n",
      "niihau/jpg/1_1920_07_12.jpg\n",
      "1\n",
      "niihau/jpg/1_1920_07_13.jpg\n",
      "2\n",
      "<class 'pandas.core.frame.DataFrame'>\n",
      "niihau/jpg/1_1920_08_13.jpg\n",
      "4\n",
      "<class 'pandas.core.frame.DataFrame'>\n"
     ]
    }
   ],
   "source": [
    "annotations_df = pd.read_csv(\"{}/niihau/annotations.csv\".format(root_folder), encoding='utf-8')\n",
    "\n",
    "annotations_df['label'] = annotations_df['label'].replace({'B':'Buoys','C': 'Cloth','F':'Foam','L':'Line','M':'Metal','N':'Net','P':'Plastic','T':'Tire','W':'wood','V':'Boat'})\n",
    "\n",
    "\n",
    "\n",
    "for key, grouped in annotations_df[:10].groupby('s3_key'):\n",
    "    print(key)\n",
    "    print(len(grouped))\n",
    "    if len(grouped)>1:\n",
    "        print(type(grouped.ix[0]))"
   ]
  },
  {
   "cell_type": "code",
   "execution_count": 28,
   "metadata": {
    "ExecuteTime": {
     "end_time": "2018-09-30T09:40:27.829550Z",
     "start_time": "2018-09-30T09:40:27.822524Z"
    }
   },
   "outputs": [
    {
     "data": {
      "text/plain": [
       "'#3EB49C'"
      ]
     },
     "execution_count": 28,
     "metadata": {},
     "output_type": "execute_result"
    }
   ],
   "source": [
    "import random\n",
    "def random_color():\n",
    "    r = lambda: random.randint(0,255)\n",
    "    return '#%02X%02X%02X' % (r(),r(),r())\n",
    "random_color()"
   ]
  },
  {
   "cell_type": "code",
   "execution_count": 24,
   "metadata": {
    "ExecuteTime": {
     "end_time": "2018-09-30T09:37:39.001684Z",
     "start_time": "2018-09-30T09:37:38.996276Z"
    }
   },
   "outputs": [
    {
     "name": "stdout",
     "output_type": "stream",
     "text": [
      "Bicycle\n"
     ]
    }
   ],
   "source": [
    "for i, v in labels_df.iterrows():\n",
    "    print(v.label)\n",
    "    break"
   ]
  },
  {
   "cell_type": "code",
   "execution_count": 35,
   "metadata": {
    "ExecuteTime": {
     "end_time": "2018-09-30T09:45:47.842560Z",
     "start_time": "2018-09-30T09:45:47.823423Z"
    }
   },
   "outputs": [
    {
     "name": "stdout",
     "output_type": "stream",
     "text": [
      "{\n",
      "    \"tags_objects\": [\n",
      "        \"urgent\",\n",
      "        \"risk\",\n",
      "        \"low_risk\"\n",
      "    ],\n",
      "    \"tags_images\": [\n",
      "        \"beach\",\n",
      "        \"ocean\",\n",
      "        \"inland\"\n",
      "    ],\n",
      "    \"classes\": [\n",
      "        {\n",
      "            \"title\": \"Bicycle\",\n",
      "            \"color\": \"#619A00\",\n",
      "            \"shape\": \"rectangle\"\n",
      "        },\n",
      "        {\n",
      "            \"title\": \"Boat\",\n",
      "            \"color\": \"#A8A68A\",\n",
      "            \"shape\": \"rectangle\"\n",
      "        },\n",
      "        {\n",
      "            \"title\": \"Surfboard\",\n",
      "            \"color\": \"#FA1D47\",\n",
      "            \"shape\": \"rectangle\"\n",
      "        },\n",
      "        {\n",
      "            \"title\": \"Bottle\",\n",
      "            \"color\": \"#99B320\",\n",
      "            \"shape\": \"rectangle\"\n",
      "        },\n",
      "        {\n",
      "            \"title\": \"Plastic bag\",\n",
      "            \"color\": \"#A3A083\",\n",
      "            \"shape\": \"rectangle\"\n",
      "        },\n",
      "        {\n",
      "            \"title\": \"Wheel\",\n",
      "            \"color\": \"#3A5079\",\n",
      "            \"shape\": \"rectangle\"\n",
      "        },\n",
      "        {\n",
      "            \"title\": \"Tire\",\n",
      "            \"color\": \"#82F390\",\n",
      "            \"shape\": \"rectangle\"\n",
      "        },\n",
      "        {\n",
      "            \"title\": \"Buoys\",\n",
      "            \"color\": \"#22B37D\",\n",
      "            \"shape\": \"rectangle\"\n",
      "        },\n",
      "        {\n",
      "            \"title\": \"Cloth\",\n",
      "            \"color\": \"#475219\",\n",
      "            \"shape\": \"rectangle\"\n",
      "        },\n",
      "        {\n",
      "            \"title\": \"Foam\",\n",
      "            \"color\": \"#D5CD41\",\n",
      "            \"shape\": \"rectangle\"\n",
      "        },\n",
      "        {\n",
      "            \"title\": \"Line\",\n",
      "            \"color\": \"#8F92C0\",\n",
      "            \"shape\": \"rectangle\"\n",
      "        },\n",
      "        {\n",
      "            \"title\": \"Metal\",\n",
      "            \"color\": \"#976F6D\",\n",
      "            \"shape\": \"rectangle\"\n",
      "        },\n",
      "        {\n",
      "            \"title\": \"Net\",\n",
      "            \"color\": \"#8CD8C8\",\n",
      "            \"shape\": \"rectangle\"\n",
      "        },\n",
      "        {\n",
      "            \"title\": \"Plastic\",\n",
      "            \"color\": \"#1E4D17\",\n",
      "            \"shape\": \"rectangle\"\n",
      "        },\n",
      "        {\n",
      "            \"title\": \"Processedwood\",\n",
      "            \"color\": \"#0F5ECA\",\n",
      "            \"shape\": \"rectangle\"\n",
      "        },\n",
      "        {\n",
      "            \"title\": \"Other\",\n",
      "            \"color\": \"#21B3AE\",\n",
      "            \"shape\": \"rectangle\"\n",
      "        }\n",
      "    ]\n",
      "}\n"
     ]
    }
   ],
   "source": [
    "d = {\n",
    "    \"tags_objects\": [\"urgent\",\"risk\",\"low_risk\"],\n",
    "    \"tags_images\": [\"beach\", \"ocean\", \"inland\"],\n",
    "    \"classes\":[]\n",
    "}\n",
    "\n",
    "for i, v in labels_df.iterrows():\n",
    "    color_dict = {\"title\":v.label,\n",
    "                  'color':random_color(),\n",
    "                  'shape':'rectangle'\n",
    "                  }\n",
    "    d['classes'].append(color_dict)\n",
    "    \n",
    "# {\"classes\": [{\"title\": \"lemon\", \"color\": \"#9EDD7D\", \"shape\": \"bitmap\"}, {\"title\": \"kiwi\", \"color\": \"#A094D2\", \"shape\": \"bitmap\"}], \"tags_images\": [], \"tags_objects\": []}\n",
    "# import json\n",
    "# print(json.dumps(d, indent=4))\n",
    "\n",
    "with open('meta.json', 'w') as outfile:\n",
    "    json.dump(d, outfile, indent=4)\n"
   ]
  },
  {
   "cell_type": "code",
   "execution_count": 85,
   "metadata": {
    "ExecuteTime": {
     "end_time": "2018-09-30T10:13:15.546264Z",
     "start_time": "2018-09-30T10:13:15.529070Z"
    }
   },
   "outputs": [
    {
     "name": "stdout",
     "output_type": "stream",
     "text": [
      "1000\n"
     ]
    }
   ],
   "source": [
    "def get_image(s3_key):\n",
    "    local_image_path = \"{}/{}\".format(image_root, os.path.basename(s3_key))\n",
    "    if not os.path.isfile(local_image_path):\n",
    "        s3_resource.Bucket(bucket_name).download_file(s3_key, local_image_path)\n",
    "    return local_image_path\n",
    "\n",
    "from PIL import Image\n",
    "\n",
    "def get_width_height(s3_key):\n",
    "    img_path = get_image(s3_key)\n",
    "    im = Image.open(img_path)\n",
    "    width, height = im.size\n",
    "    return width, height\n",
    "width, height = get_width_height(\"niihau/jpg/1_1920_04_07.jpg\")\n",
    "print(width)"
   ]
  },
  {
   "cell_type": "code",
   "execution_count": null,
   "metadata": {
    "ExecuteTime": {
     "start_time": "2018-09-30T10:21:35.680Z"
    }
   },
   "outputs": [],
   "source": [
    "\n",
    "\n",
    "def generate_image_json(image_name, island, list_of_debris):\n",
    "    width, height = get_width_height(image_name)\n",
    "    return {\n",
    "        \"description\": \"{}_{}\".format(island,image_name),\n",
    "        \"name\": \"{}_{}\".format(island,image_name),\n",
    "        \"size\": {\n",
    "            \"width\": width,\n",
    "            \"height\": height\n",
    "        },\n",
    "        \"tags\": [\"debris\"],\n",
    "        \"objects\": list_of_debris\n",
    "        }\n",
    "def generate_obj_json(debris_row):\n",
    "    return {\n",
    "      \"description\": \"\",\n",
    "      \"tags\": [],\n",
    "      \"bitmap\": None,\n",
    "      \"classTitle\": debris_row.label,\n",
    "      \"points\": {\n",
    "        \"exterior\": [\n",
    "          [\n",
    "            debris_row.x0,\n",
    "            debris_row.y1\n",
    "          ],\n",
    "          [\n",
    "            debris_row.x1,\n",
    "            debris_row.y0\n",
    "          ]\n",
    "        ],\n",
    "        \"interior\": []\n",
    "      }\n",
    "    }\n",
    "\n",
    "for key, grouped in annotations_df[:5].groupby('s3_key'):\n",
    "    list_of_objs = []\n",
    "    for i, val in grouped.iterrows():\n",
    "        list_of_objs.append(generate_obj_json(val))\n",
    "    json_per_image = generate_image_json(key, 'niihau', list_of_objs)\n",
    "#     print(json.dumps(json_per_image, indent=4))\n",
    "    json_file_name = \"{}/ann/{}\".format(image_root, os.path.basename(key).replace(\".jpg\",\".json\"))\n",
    "    with open(json_file_name, 'w') as outfile:\n",
    "        json.dump(json_per_image, outfile, indent=4)\n"
   ]
  }
 ],
 "metadata": {
  "anaconda-cloud": {},
  "kernelspec": {
   "display_name": "Python 3",
   "language": "python",
   "name": "python3"
  },
  "language_info": {
   "codemirror_mode": {
    "name": "ipython",
    "version": 3
   },
   "file_extension": ".py",
   "mimetype": "text/x-python",
   "name": "python",
   "nbconvert_exporter": "python",
   "pygments_lexer": "ipython3",
   "version": "3.6.2"
  }
 },
 "nbformat": 4,
 "nbformat_minor": 2
}
