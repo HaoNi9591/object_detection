{
 "cells": [
  {
   "cell_type": "markdown",
   "metadata": {},
   "source": [
    "## convert to be able to consume it with arcGIS JS\n",
    "\n",
    "- convert pixel back to raster EPSG coordinates -> lat long\n"
   ]
  },
  {
   "cell_type": "code",
   "execution_count": 1,
   "metadata": {
    "ExecuteTime": {
     "end_time": "2018-10-26T10:59:10.773243Z",
     "start_time": "2018-10-26T10:59:10.302640Z"
    },
    "collapsed": true
   },
   "outputs": [],
   "source": [
    "import boto3 \n",
    "boto3.setup_default_session(profile_name='hawaii')\n",
    "s3_client = boto3.client('s3')\n",
    "s3_resource = boto3.resource('s3')\n",
    "bucket_name = 'hawaii-marine-debris'\n",
    "version='v3'"
   ]
  },
  {
   "cell_type": "code",
   "execution_count": 10,
   "metadata": {
    "ExecuteTime": {
     "end_time": "2018-10-26T11:02:46.318539Z",
     "start_time": "2018-10-26T11:02:45.940113Z"
    }
   },
   "outputs": [
    {
     "name": "stdout",
     "output_type": "stream",
     "text": [
      "The autoreload extension is already loaded. To reload it, use:\n",
      "  %reload_ext autoreload\n"
     ]
    }
   ],
   "source": [
    "# automatically reload modules when they have changed\n",
    "%load_ext autoreload\n",
    "%autoreload 2\n",
    "def download_from_s3(s3_key):\n",
    "    basename = os.path.basename(s3_key)\n",
    "    local_file_path = local_tmp_folder.format(basename)\n",
    "    s3_resource.Bucket(bucket_name).download_file(s3_key, local_file_path)\n",
    "    return local_file_path\n",
    "\n",
    "def convert_tif_to_jpeg(tiff_image_path):\n",
    "    src = rasterio.open(tiff_image_path)\n",
    "    jpg_path = tiff_image_path.replace(\".tif\", \".jpg\")\n",
    "    data = src.read()\n",
    "    profile = src.profile\n",
    "    result = data.astype(rasterio.uint8, casting='unsafe', copy=False)\n",
    "    profile.update(driver='jpeg')\n",
    "    with rasterio.open(jpg_path, 'w', **profile) as dst:\n",
    "        dst.write(result)\n",
    "    return jpg_path\n",
    "                \n",
    "def upload_to_s3(local_file_path, s3_path,ExtraArgs=None):\n",
    "    s3_client.upload_file(local_file_path, bucket_name, s3_path,ExtraArgs)\n",
    "\n",
    "def find_min_xy(coordinates):\n",
    "    x0 = min([i[0] for i in coordinates])\n",
    "    x1 = max([i[0] for i in coordinates])\n",
    "    y0 = min([i[1] for i in coordinates])\n",
    "    y1 = max([i[1] for i in coordinates])\n",
    "    return x0,y0,x1,y1\n",
    "\n",
    "\n",
    "def get_pixel_coordinates(image_path, coordinates):\n",
    "    driver = gdal.GetDriverByName('GTiff')\n",
    "    dataset = gdal.Open(image_path)\n",
    "    band = dataset.GetRasterBand(1)\n",
    "\n",
    "    cols = dataset.RasterXSize\n",
    "    rows = dataset.RasterYSize\n",
    "\n",
    "    transform = dataset.GetGeoTransform()\n",
    "\n",
    "    xOrigin = transform[0]\n",
    "    yOrigin = transform[3]\n",
    "    pixelWidth = transform[1]\n",
    "    pixelHeight = -transform[5]\n",
    "\n",
    "    data = band.ReadAsArray(0, 0, cols, rows)\n",
    "\n",
    "    x0, y0, x1, y1 = coordinates\n",
    "    x0p = int((x0 - xOrigin) / pixelWidth)\n",
    "    y0p = int((yOrigin - y0 ) / pixelHeight)\n",
    "    x1p = int((x1 - xOrigin) / pixelWidth)\n",
    "    y1p = int((yOrigin - y1 ) / pixelHeight)\n",
    "    return x0p, y0p, x1p, y1p"
   ]
  },
  {
   "cell_type": "code",
   "execution_count": 11,
   "metadata": {
    "ExecuteTime": {
     "end_time": "2018-10-26T11:02:46.599998Z",
     "start_time": "2018-10-26T11:02:46.470940Z"
    }
   },
   "outputs": [
    {
     "name": "stdout",
     "output_type": "stream",
     "text": [
      "-160.06075380943668 21.996225452843184\n"
     ]
    }
   ],
   "source": [
    "from pyproj import Proj, transform\n",
    "# 32611\n",
    "#26965 ?\n",
    "inProj = Proj(init='epsg:26904')\n",
    "outProj = Proj(init='epsg:4326')\n",
    "\n",
    "x1, y1 = 390500.667334294, 2432788.8433446772\n",
    "#expected to be something like \n",
    "long, lat = transform(inProj,outProj,x1,y1)\n",
    "print(long,lat)"
   ]
  },
  {
   "cell_type": "code",
   "execution_count": 12,
   "metadata": {
    "ExecuteTime": {
     "end_time": "2018-10-26T11:02:47.040867Z",
     "start_time": "2018-10-26T11:02:46.963107Z"
    }
   },
   "outputs": [
    {
     "name": "stdout",
     "output_type": "stream",
     "text": [
      "/tmp\n"
     ]
    }
   ],
   "source": [
    "%matplotlib inline\n",
    "\n",
    "import matplotlib\n",
    "import numpy as np\n",
    "import matplotlib.pyplot as plt\n",
    "import boto3\n",
    "import pandas as pd\n",
    "import os\n",
    "root_folder = os.getcwd()\n",
    "root_folder = \"/tmp\"\n",
    "print(root_folder)\n",
    "image_root = '/tmp/data/images/niihau'"
   ]
  },
  {
   "cell_type": "code",
   "execution_count": 13,
   "metadata": {
    "ExecuteTime": {
     "end_time": "2018-10-26T11:02:47.598369Z",
     "start_time": "2018-10-26T11:02:47.560045Z"
    },
    "collapsed": true
   },
   "outputs": [],
   "source": [
    "def get_jpg_key(tiff_s3_path):\n",
    "    return \"niihau/jpg/\"+os.path.basename(tiff_s3_path).replace(\".tif\",\".jpg\")"
   ]
  },
  {
   "cell_type": "code",
   "execution_count": 14,
   "metadata": {
    "ExecuteTime": {
     "end_time": "2018-10-26T11:02:51.104572Z",
     "start_time": "2018-10-26T11:02:48.211223Z"
    },
    "collapsed": true
   },
   "outputs": [],
   "source": [
    "import json\n",
    "geo_json={}\n",
    "\n",
    "with open(\"{}/niihau_tileindex.geojson\".format(root_folder)) as f:\n",
    "    geo_json = json.load(f)\n",
    "len(geo_json['features'])\n",
    "tiles_features = geo_json['features']\n",
    "tiles_features[:2]\n",
    "\n",
    "#simplify to create what we care\n",
    "# for each jpg -> original x y coordinates\n",
    "coords_lookup = []\n",
    "for idx, tile in enumerate(tiles_features):    \n",
    "    \n",
    "    key = get_jpg_key(tile['properties']['s3_path'])\n",
    "    x1,y1,x2,y2 = find_min_xy(tile['geometry']['coordinates'][0]) \n",
    "    coords_lookup.append((key,x1,y1,x2,y2))"
   ]
  },
  {
   "cell_type": "code",
   "execution_count": 15,
   "metadata": {
    "ExecuteTime": {
     "end_time": "2018-10-26T11:02:51.165024Z",
     "start_time": "2018-10-26T11:02:51.106385Z"
    }
   },
   "outputs": [
    {
     "data": {
      "text/plain": [
       "116158"
      ]
     },
     "execution_count": 15,
     "metadata": {},
     "output_type": "execute_result"
    }
   ],
   "source": [
    "len(coords_lookup)"
   ]
  },
  {
   "cell_type": "code",
   "execution_count": 16,
   "metadata": {
    "ExecuteTime": {
     "end_time": "2018-10-26T11:02:52.377522Z",
     "start_time": "2018-10-26T11:02:51.169845Z"
    },
    "collapsed": true
   },
   "outputs": [],
   "source": [
    "# coords_lookup\n",
    "\n",
    "# import csv\n",
    "\n",
    "# with open('tile_coordinates.csv','w') as out:\n",
    "#     csv_out=csv.writer(out)\n",
    "#     csv_out.writerow(['s3_key','x1', 'y1','x2','y2'])\n",
    "#     for row in coords_lookup:\n",
    "#         csv_out.writerow(row)"
   ]
  },
  {
   "cell_type": "code",
   "execution_count": 17,
   "metadata": {
    "ExecuteTime": {
     "end_time": "2018-10-26T11:03:01.364148Z",
     "start_time": "2018-10-26T11:02:52.379760Z"
    }
   },
   "outputs": [
    {
     "data": {
      "text/html": [
       "<div>\n",
       "<table border=\"1\" class=\"dataframe\">\n",
       "  <thead>\n",
       "    <tr style=\"text-align: right;\">\n",
       "      <th></th>\n",
       "      <th>s3_key</th>\n",
       "      <th>x1</th>\n",
       "      <th>y1</th>\n",
       "      <th>x2</th>\n",
       "      <th>y2</th>\n",
       "      <th>coord_width</th>\n",
       "      <th>coord_height</th>\n",
       "    </tr>\n",
       "  </thead>\n",
       "  <tbody>\n",
       "    <tr>\n",
       "      <th>0</th>\n",
       "      <td>niihau/jpg/1_10_07_01.jpg</td>\n",
       "      <td>375494.86</td>\n",
       "      <td>2409223.12</td>\n",
       "      <td>375514.86</td>\n",
       "      <td>2409243.12</td>\n",
       "      <td>20.0</td>\n",
       "      <td>20.0</td>\n",
       "    </tr>\n",
       "    <tr>\n",
       "      <th>1</th>\n",
       "      <td>niihau/jpg/1_10_07_02.jpg</td>\n",
       "      <td>375510.86</td>\n",
       "      <td>2409223.12</td>\n",
       "      <td>375530.86</td>\n",
       "      <td>2409243.12</td>\n",
       "      <td>20.0</td>\n",
       "      <td>20.0</td>\n",
       "    </tr>\n",
       "    <tr>\n",
       "      <th>2</th>\n",
       "      <td>niihau/jpg/1_10_08_01.jpg</td>\n",
       "      <td>375494.86</td>\n",
       "      <td>2409207.12</td>\n",
       "      <td>375514.86</td>\n",
       "      <td>2409227.12</td>\n",
       "      <td>20.0</td>\n",
       "      <td>20.0</td>\n",
       "    </tr>\n",
       "    <tr>\n",
       "      <th>3</th>\n",
       "      <td>niihau/jpg/1_10_08_02.jpg</td>\n",
       "      <td>375510.86</td>\n",
       "      <td>2409207.12</td>\n",
       "      <td>375530.86</td>\n",
       "      <td>2409227.12</td>\n",
       "      <td>20.0</td>\n",
       "      <td>20.0</td>\n",
       "    </tr>\n",
       "    <tr>\n",
       "      <th>4</th>\n",
       "      <td>niihau/jpg/1_10_08_03.jpg</td>\n",
       "      <td>375526.86</td>\n",
       "      <td>2409207.12</td>\n",
       "      <td>375546.86</td>\n",
       "      <td>2409227.12</td>\n",
       "      <td>20.0</td>\n",
       "      <td>20.0</td>\n",
       "    </tr>\n",
       "  </tbody>\n",
       "</table>\n",
       "</div>"
      ],
      "text/plain": [
       "                      s3_key         x1          y1         x2          y2  \\\n",
       "0  niihau/jpg/1_10_07_01.jpg  375494.86  2409223.12  375514.86  2409243.12   \n",
       "1  niihau/jpg/1_10_07_02.jpg  375510.86  2409223.12  375530.86  2409243.12   \n",
       "2  niihau/jpg/1_10_08_01.jpg  375494.86  2409207.12  375514.86  2409227.12   \n",
       "3  niihau/jpg/1_10_08_02.jpg  375510.86  2409207.12  375530.86  2409227.12   \n",
       "4  niihau/jpg/1_10_08_03.jpg  375526.86  2409207.12  375546.86  2409227.12   \n",
       "\n",
       "   coord_width  coord_height  \n",
       "0         20.0          20.0  \n",
       "1         20.0          20.0  \n",
       "2         20.0          20.0  \n",
       "3         20.0          20.0  \n",
       "4         20.0          20.0  "
      ]
     },
     "execution_count": 17,
     "metadata": {},
     "output_type": "execute_result"
    }
   ],
   "source": [
    "coords_lookup_df = pd.read_csv('tile_coordinates.csv')\n",
    "coords_lookup_df['coord_width'] = coords_lookup_df.apply(lambda x: x.x2-x.x1, axis=1)\n",
    "coords_lookup_df['coord_height'] = coords_lookup_df.apply(lambda x: x.y2-x.y1, axis=1)\n",
    "coords_lookup_df[:5]"
   ]
  },
  {
   "cell_type": "code",
   "execution_count": 22,
   "metadata": {
    "ExecuteTime": {
     "end_time": "2018-10-26T11:03:38.542579Z",
     "start_time": "2018-10-26T11:03:36.035538Z"
    }
   },
   "outputs": [],
   "source": [
    "# s3://hawaii-marine-debris/ml/result/v3/all_debris_detected_2.csv\n",
    "\n",
    "detected_debris_key = \"ml/result/{}/all_debris_detected_from_all.csv\".format(version)\n",
    "debris_path = \"{}/all_debris_detected_with_all.csv.csv\".format(root_folder)\n",
    "s3_resource.Bucket(bucket_name).download_file(detected_debris_key, debris_path)\n",
    "all_debris_df = pd.read_csv(debris_path)\n",
    "all_debris_df[:5]\n",
    "\n",
    "evaluation_key = \"ml/result/{}/evaluation_result.csv\".format(version)\n",
    "evaluation_path = \"{}/evaluation_result.csv\".format(root_folder)\n",
    "s3_resource.Bucket(bucket_name).download_file(evaluation_key, evaluation_path)\n",
    "\n",
    "test_key = \"ml/{}/data/keras_annotations_test.csv\".format(version)\n",
    "test_path = \"{}/keras_annotations_test.csv\".format(root_folder)\n",
    "s3_resource.Bucket(bucket_name).download_file(test_key, test_path)\n",
    "# s3://hawaii-marine-debris/niihau/deduped_annotations.csv\n",
    "#may contain alot of overlap to each other\n",
    "print(len(all_debris_df[all_debris_df['score']>0.3]))\n",
    "\n",
    "good_enough_debris_set = all_debris_df[all_debris_df['score']>0.3]"
   ]
  },
  {
   "cell_type": "code",
   "execution_count": 24,
   "metadata": {
    "ExecuteTime": {
     "end_time": "2018-10-26T11:03:58.674518Z",
     "start_time": "2018-10-26T11:03:58.501483Z"
    }
   },
   "outputs": [],
   "source": [
    "good_enough_debris_set = good_enough_debris_set.drop(['Unnamed: 0'],axis=1)\n",
    "debris_row = good_enough_debris_set.iloc[0]\n",
    "image_cords_row = coords_lookup_df[coords_lookup_df['s3_key']==debris_row.image_s3_key].iloc[0]"
   ]
  },
  {
   "cell_type": "code",
   "execution_count": 37,
   "metadata": {
    "ExecuteTime": {
     "end_time": "2018-10-26T11:09:07.465799Z",
     "start_time": "2018-10-26T11:09:07.413844Z"
    }
   },
   "outputs": [],
   "source": [
    "image_row = image_cords_row"
   ]
  },
  {
   "cell_type": "code",
   "execution_count": 85,
   "metadata": {
    "ExecuteTime": {
     "end_time": "2018-10-26T10:18:24.694859Z",
     "start_time": "2018-10-26T10:18:24.111544Z"
    },
    "collapsed": true
   },
   "outputs": [],
   "source": [
    "label_path = \"/tmp/labels_{}.csv\".format(version)\n",
    "s3_resource.Bucket(bucket_name).download_file('ml/{}/data/labels.csv'.format(version), label_path)\n",
    "label_df = pd.read_csv(label_path,names=['label','id'])\n",
    "label_df\n",
    "label_lookup = label_df.set_index('id').T.to_dict('records')[0]\n",
    "label_lookup \n",
    "good_enough_debris_set['label'] = good_enough_debris_set.apply(lambda row: label_lookup[row.label], axis=1)"
   ]
  },
  {
   "cell_type": "code",
   "execution_count": 38,
   "metadata": {
    "ExecuteTime": {
     "end_time": "2018-10-26T11:09:09.452814Z",
     "start_time": "2018-10-26T11:09:09.393997Z"
    }
   },
   "outputs": [
    {
     "data": {
      "text/plain": [
       "16.78"
      ]
     },
     "execution_count": 38,
     "metadata": {},
     "output_type": "execute_result"
    }
   ],
   "source": [
    "(debris_row.y2/1000)*image_row.coord_height"
   ]
  },
  {
   "cell_type": "code",
   "execution_count": 39,
   "metadata": {
    "ExecuteTime": {
     "end_time": "2018-10-26T11:10:06.559612Z",
     "start_time": "2018-10-26T11:10:06.429659Z"
    }
   },
   "outputs": [
    {
     "data": {
      "text/plain": [
       "(21.80500991977527, -160.23916115359916, 0.78, 0.8)"
      ]
     },
     "execution_count": 39,
     "metadata": {},
     "output_type": "execute_result"
    }
   ],
   "source": [
    "\n",
    "from pyproj import Proj, transform\n",
    "from datetime import datetime, date, timedelta\n",
    "\n",
    "inProj = Proj(init='epsg:26904')\n",
    "outProj = Proj(init='epsg:4326')\n",
    "\n",
    "def get_relative_coord(image_row, debris_row, image_size=(1000,1000)):\n",
    "#     x1 = round(image_row.x1 + ((debris_row.x1/1000)*image_row.coord_width),2)\n",
    "#     x2 = round(image_row.x1 + ((debris_row.x2/1000)*image_row.coord_width),2)\n",
    "#     y1 = round(image_row.y1 + ((debris_row.y1/1000)*image_row.coord_height),2)\n",
    "#     y2 = round(image_row.y1 + ((debris_row.y2/1000)*image_row.coord_height),2)\n",
    "    x1 =image_row.x1 + ((debris_row.x1/1000)*image_row.coord_width)\n",
    "    x2 = image_row.x1 + ((debris_row.x2/1000)*image_row.coord_width)\n",
    "    y1 = image_row.y1 + ((debris_row.y1/1000)*image_row.coord_height)\n",
    "    y2 = image_row.y1 + ((debris_row.y2/1000)*image_row.coord_height)\n",
    "    long, lat = transform(inProj,outProj,x1,y1)\n",
    "#     long, lat = transform(inProj,outProj,((x1+x2)/2), ((y1+y2)/2))\n",
    "    #size needs better calculations for plot.\n",
    "    width, height = round((x2-x1),2), round((y2-y1),2)\n",
    "    return lat, long, width, height\n",
    "\n",
    "get_relative_coord(image_cords_row,debris_row)"
   ]
  },
  {
   "cell_type": "code",
   "execution_count": 40,
   "metadata": {
    "ExecuteTime": {
     "end_time": "2018-10-26T11:10:07.678738Z",
     "start_time": "2018-10-26T11:10:07.612600Z"
    }
   },
   "outputs": [
    {
     "data": {
      "text/html": [
       "<div>\n",
       "<table border=\"1\" class=\"dataframe\">\n",
       "  <thead>\n",
       "    <tr style=\"text-align: right;\">\n",
       "      <th></th>\n",
       "      <th>image_s3_key</th>\n",
       "      <th>x1</th>\n",
       "      <th>y1</th>\n",
       "      <th>x2</th>\n",
       "      <th>y2</th>\n",
       "      <th>label</th>\n",
       "      <th>score</th>\n",
       "      <th>overlapped_test_index</th>\n",
       "      <th>overlapped_with_training_index</th>\n",
       "    </tr>\n",
       "  </thead>\n",
       "  <tbody>\n",
       "    <tr>\n",
       "      <th>11</th>\n",
       "      <td>niihau/jpg/1_1130_16_26.jpg</td>\n",
       "      <td>305</td>\n",
       "      <td>672</td>\n",
       "      <td>344</td>\n",
       "      <td>711</td>\n",
       "      <td>7</td>\n",
       "      <td>0.523061</td>\n",
       "      <td>644.0</td>\n",
       "      <td>644.0</td>\n",
       "    </tr>\n",
       "    <tr>\n",
       "      <th>12</th>\n",
       "      <td>niihau/jpg/1_1130_16_26.jpg</td>\n",
       "      <td>313</td>\n",
       "      <td>678</td>\n",
       "      <td>353</td>\n",
       "      <td>718</td>\n",
       "      <td>7</td>\n",
       "      <td>0.332871</td>\n",
       "      <td>644.0</td>\n",
       "      <td>644.0</td>\n",
       "    </tr>\n",
       "    <tr>\n",
       "      <th>21</th>\n",
       "      <td>niihau/jpg/1_1130_16_27.jpg</td>\n",
       "      <td>774</td>\n",
       "      <td>288</td>\n",
       "      <td>814</td>\n",
       "      <td>329</td>\n",
       "      <td>13</td>\n",
       "      <td>0.381062</td>\n",
       "      <td>NaN</td>\n",
       "      <td>NaN</td>\n",
       "    </tr>\n",
       "    <tr>\n",
       "      <th>26</th>\n",
       "      <td>niihau/jpg/1_1171_04_25.jpg</td>\n",
       "      <td>265</td>\n",
       "      <td>437</td>\n",
       "      <td>304</td>\n",
       "      <td>476</td>\n",
       "      <td>7</td>\n",
       "      <td>0.439906</td>\n",
       "      <td>NaN</td>\n",
       "      <td>2256.0</td>\n",
       "    </tr>\n",
       "    <tr>\n",
       "      <th>27</th>\n",
       "      <td>niihau/jpg/1_1171_04_25.jpg</td>\n",
       "      <td>319</td>\n",
       "      <td>521</td>\n",
       "      <td>360</td>\n",
       "      <td>562</td>\n",
       "      <td>6</td>\n",
       "      <td>0.344256</td>\n",
       "      <td>156.0</td>\n",
       "      <td>156.0</td>\n",
       "    </tr>\n",
       "  </tbody>\n",
       "</table>\n",
       "</div>"
      ],
      "text/plain": [
       "                   image_s3_key   x1   y1   x2   y2  label     score  \\\n",
       "11  niihau/jpg/1_1130_16_26.jpg  305  672  344  711      7  0.523061   \n",
       "12  niihau/jpg/1_1130_16_26.jpg  313  678  353  718      7  0.332871   \n",
       "21  niihau/jpg/1_1130_16_27.jpg  774  288  814  329     13  0.381062   \n",
       "26  niihau/jpg/1_1171_04_25.jpg  265  437  304  476      7  0.439906   \n",
       "27  niihau/jpg/1_1171_04_25.jpg  319  521  360  562      6  0.344256   \n",
       "\n",
       "    overlapped_test_index  overlapped_with_training_index  \n",
       "11                  644.0                           644.0  \n",
       "12                  644.0                           644.0  \n",
       "21                    NaN                             NaN  \n",
       "26                    NaN                          2256.0  \n",
       "27                  156.0                           156.0  "
      ]
     },
     "execution_count": 40,
     "metadata": {},
     "output_type": "execute_result"
    }
   ],
   "source": [
    "good_enough_debris_set[:5]"
   ]
  },
  {
   "cell_type": "code",
   "execution_count": 41,
   "metadata": {
    "ExecuteTime": {
     "end_time": "2018-10-26T11:10:08.763873Z",
     "start_time": "2018-10-26T11:10:08.712305Z"
    }
   },
   "outputs": [
    {
     "data": {
      "text/plain": [
       "25320"
      ]
     },
     "execution_count": 41,
     "metadata": {},
     "output_type": "execute_result"
    }
   ],
   "source": [
    "# -160.1793628159, 21.8342278972\n",
    "max(good_enough_debris_set.index)"
   ]
  },
  {
   "cell_type": "code",
   "execution_count": 42,
   "metadata": {
    "ExecuteTime": {
     "end_time": "2018-10-26T11:11:38.316365Z",
     "start_time": "2018-10-26T11:10:10.345092Z"
    }
   },
   "outputs": [
    {
     "name": "stdout",
     "output_type": "stream",
     "text": [
      " pct done -- 1.00\r"
     ]
    }
   ],
   "source": [
    "debris_lat_long_rows = []\n",
    "for idx, debris_row in good_enough_debris_set.iterrows():\n",
    "    image_cords_row = coords_lookup_df[coords_lookup_df['s3_key']==debris_row['image_s3_key']].iloc[0]\n",
    "    lat, long, width, height = get_relative_coord(image_cords_row,debris_row)\n",
    "    time = datetime.now().strftime(\"%Y-%m-%d\")\n",
    "    debris_lat_long_rows.append((time, lat, long, width, height,debris_row.label))\n",
    "    print(\" pct done -- {0:.2f}\".format(idx/max(good_enough_debris_set.index)),end='\\r')\n",
    "    \n",
    "    "
   ]
  },
  {
   "cell_type": "code",
   "execution_count": 43,
   "metadata": {
    "ExecuteTime": {
     "end_time": "2018-10-26T11:11:38.587231Z",
     "start_time": "2018-10-26T11:11:38.328345Z"
    },
    "collapsed": true
   },
   "outputs": [],
   "source": [
    "with open('debris_lat_long_coordinates.csv','w') as out:\n",
    "    csv_out=csv.writer(out)\n",
    "    csv_out.writerow(['time','lat','long','width','height','debris_type'])\n",
    "    for row in debris_lat_long_rows:\n",
    "        csv_out.writerow(row)"
   ]
  },
  {
   "cell_type": "code",
   "execution_count": 44,
   "metadata": {
    "ExecuteTime": {
     "end_time": "2018-10-26T11:11:43.451179Z",
     "start_time": "2018-10-26T11:11:38.598513Z"
    },
    "collapsed": true
   },
   "outputs": [],
   "source": [
    "upload_to_s3('debris_lat_long_coordinates.csv', 'niihau/map/debris_lat_long_coordinates.csv', ExtraArgs={'ACL':'public-read'})"
   ]
  },
  {
   "cell_type": "code",
   "execution_count": 50,
   "metadata": {
    "ExecuteTime": {
     "end_time": "2018-10-26T09:46:57.517698Z",
     "start_time": "2018-10-26T09:46:57.491650Z"
    }
   },
   "outputs": [
    {
     "data": {
      "text/plain": [
       "375500.96"
      ]
     },
     "execution_count": 50,
     "metadata": {},
     "output_type": "execute_result"
    }
   ],
   "source": [
    "\n",
    "x1 = round(image.x1 + ((debris_row.x1/1000)*image_row.coord_width),10)\n",
    "x2 = round(image.x1 + ((debris_row.x2/1000)*image_row.coord_width),10)\n",
    "y1 = round(image.y1 + ((debris_row.y1/1000)*image_row.coord_height),10)\n",
    "y2 = round(image.y1 + ((debris_row.y2/1000)*image_row.coord_height),10)\n",
    "# min_lat_long = \n",
    "# calculate center_lat_long and size.\n",
    "\n",
    "\n",
    "# # 32611\n",
    "# #26965 ?\n",
    "# x1, y1 = 390500.667334294, 2432788.8433446772\n",
    "# #expected to be something like \n",
    "# long, lat = transform(inProj,outProj,x1,y1)\n",
    "# print(long,lat)"
   ]
  },
  {
   "cell_type": "code",
   "execution_count": 21,
   "metadata": {
    "ExecuteTime": {
     "end_time": "2018-10-26T11:03:33.045397Z",
     "start_time": "2018-10-26T11:03:27.260639Z"
    }
   },
   "outputs": [
    {
     "data": {
      "text/html": [
       "<div>\n",
       "<table border=\"1\" class=\"dataframe\">\n",
       "  <thead>\n",
       "    <tr style=\"text-align: right;\">\n",
       "      <th></th>\n",
       "      <th>tile_name</th>\n",
       "      <th>directory</th>\n",
       "      <th>s3_path</th>\n",
       "    </tr>\n",
       "  </thead>\n",
       "  <tbody>\n",
       "    <tr>\n",
       "      <th>0</th>\n",
       "      <td>1_10_07_01.tif</td>\n",
       "      <td>1_10</td>\n",
       "      <td>https://s3-us-west-2.amazonaws.com/hawaii-mari...</td>\n",
       "    </tr>\n",
       "    <tr>\n",
       "      <th>1</th>\n",
       "      <td>1_10_07_02.tif</td>\n",
       "      <td>1_10</td>\n",
       "      <td>https://s3-us-west-2.amazonaws.com/hawaii-mari...</td>\n",
       "    </tr>\n",
       "    <tr>\n",
       "      <th>2</th>\n",
       "      <td>1_10_08_01.tif</td>\n",
       "      <td>1_10</td>\n",
       "      <td>https://s3-us-west-2.amazonaws.com/hawaii-mari...</td>\n",
       "    </tr>\n",
       "    <tr>\n",
       "      <th>3</th>\n",
       "      <td>1_10_08_02.tif</td>\n",
       "      <td>1_10</td>\n",
       "      <td>https://s3-us-west-2.amazonaws.com/hawaii-mari...</td>\n",
       "    </tr>\n",
       "    <tr>\n",
       "      <th>4</th>\n",
       "      <td>1_10_08_03.tif</td>\n",
       "      <td>1_10</td>\n",
       "      <td>https://s3-us-west-2.amazonaws.com/hawaii-mari...</td>\n",
       "    </tr>\n",
       "  </tbody>\n",
       "</table>\n",
       "</div>"
      ],
      "text/plain": [
       "        tile_name directory                                            s3_path\n",
       "0  1_10_07_01.tif      1_10  https://s3-us-west-2.amazonaws.com/hawaii-mari...\n",
       "1  1_10_07_02.tif      1_10  https://s3-us-west-2.amazonaws.com/hawaii-mari...\n",
       "2  1_10_08_01.tif      1_10  https://s3-us-west-2.amazonaws.com/hawaii-mari...\n",
       "3  1_10_08_02.tif      1_10  https://s3-us-west-2.amazonaws.com/hawaii-mari...\n",
       "4  1_10_08_03.tif      1_10  https://s3-us-west-2.amazonaws.com/hawaii-mari..."
      ]
     },
     "execution_count": 21,
     "metadata": {},
     "output_type": "execute_result"
    }
   ],
   "source": [
    "all_key = \"niihau/niihau_tileindex.csv\"\n",
    "all_path = \"{}/niihau_tileindex.csv\".format(root_folder)\n",
    "s3_resource.Bucket(bucket_name).download_file(all_key, all_path)\n",
    "all_tiles_df = pd.read_csv(all_path)\n",
    "all_tiles_df[:5]"
   ]
  },
  {
   "cell_type": "code",
   "execution_count": 23,
   "metadata": {
    "ExecuteTime": {
     "end_time": "2018-10-26T11:03:38.604567Z",
     "start_time": "2018-10-26T11:03:38.544424Z"
    }
   },
   "outputs": [
    {
     "name": "stdout",
     "output_type": "stream",
     "text": [
      "5657\n"
     ]
    }
   ],
   "source": []
  },
  {
   "cell_type": "code",
   "execution_count": null,
   "metadata": {
    "collapsed": true
   },
   "outputs": [],
   "source": []
  }
 ],
 "metadata": {
  "kernelspec": {
   "display_name": "Python 3",
   "language": "python",
   "name": "python3"
  },
  "language_info": {
   "codemirror_mode": {
    "name": "ipython",
    "version": 3
   },
   "file_extension": ".py",
   "mimetype": "text/x-python",
   "name": "python",
   "nbconvert_exporter": "python",
   "pygments_lexer": "ipython3",
   "version": "3.6.2"
  }
 },
 "nbformat": 4,
 "nbformat_minor": 2
}
